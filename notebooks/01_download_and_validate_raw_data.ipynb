{
 "cells": [
  {
   "cell_type": "code",
   "execution_count": 1,
   "metadata": {},
   "outputs": [],
   "source": [
    "from pathlib import Path\n",
    "import requests\n",
    "import pandas as pd\n",
    "import os\n",
    "\n",
    "DATA_DIR = Path('..') / 'data'"
   ]
  },
  {
   "cell_type": "code",
   "execution_count": 2,
   "metadata": {},
   "outputs": [],
   "source": [
    "def download_one_file_of_raw_data(year: int, month: int) -> Path:\n",
    "    URL = f\"https://d37ci6vzurychx.cloudfront.net/trip-data/yellow_tripdata_{year}-{month:02d}.parquet\"\n",
    "    response = requests.get(URL)\n",
    "\n",
    "    if response.status_code == 200:\n",
    "        path = f\"{DATA_DIR}/raw/rides_{year}_{month:02d}.parquet\"\n",
    "        open(path, \"wb\").write(response.content)\n",
    "        return path\n",
    "    else:\n",
    "        raise Exception(f\"{URL} is not available\")"
   ]
  },
  {
   "cell_type": "code",
   "execution_count": 3,
   "metadata": {},
   "outputs": [],
   "source": [
    "def validate_raw_data(year: int, month: int) -> Path:\n",
    "    rides = pd.read_parquet(f\"{DATA_DIR}/raw/rides_{year}_{month:02d}.parquet\")\n",
    "    rides = rides[['tpep_pickup_datetime', 'PULocationID']]\n",
    "    rides.rename(columns={\n",
    "        'tpep_pickup_datetime': 'pickup_datetime',\n",
    "        'PULocationID': 'pickup_location_id'\n",
    "    }, inplace=True)\n",
    "    rides = rides[rides.pickup_datetime >= '2022-01-01']\n",
    "    rides = rides[rides.pickup_datetime < '2022-02-01']\n",
    "    transformed_dir = DATA_DIR / \"transformed\" \n",
    "    if not transformed_dir.exists():\n",
    "        transformed_dir.mkdir(parents=True, exist_ok=True)\n",
    "    path = transformed_dir / f\"validated_rides_{year}_{month:02d}.parquet\"\n",
    "    rides.to_parquet(path)\n",
    "    return rides"
   ]
  },
  {
   "cell_type": "code",
   "execution_count": 4,
   "metadata": {},
   "outputs": [],
   "source": [
    "download_one_file_of_raw_data(2022, 1)\n",
    "rides = clean_data(2022, 1)"
   ]
  },
  {
   "cell_type": "code",
   "execution_count": 5,
   "metadata": {},
   "outputs": [
    {
     "data": {
      "text/plain": [
       "count                          2463879\n",
       "mean     2022-01-17 01:58:40.393673472\n",
       "min                2022-01-01 00:00:08\n",
       "25%                2022-01-09 15:37:56\n",
       "50%                2022-01-17 12:11:54\n",
       "75%                2022-01-24 13:49:37\n",
       "max                2022-01-31 23:59:58\n",
       "Name: pickup_datetime, dtype: object"
      ]
     },
     "execution_count": 5,
     "metadata": {},
     "output_type": "execute_result"
    }
   ],
   "source": [
    "rides['pickup_datetime'].describe()"
   ]
  },
  {
   "cell_type": "code",
   "execution_count": null,
   "metadata": {},
   "outputs": [],
   "source": []
  }
 ],
 "metadata": {
  "kernelspec": {
   "display_name": "taxi-demand",
   "language": "python",
   "name": "taxi-demand"
  },
  "language_info": {
   "codemirror_mode": {
    "name": "ipython",
    "version": 3
   },
   "file_extension": ".py",
   "mimetype": "text/x-python",
   "name": "python",
   "nbconvert_exporter": "python",
   "pygments_lexer": "ipython3",
   "version": "3.10.10"
  }
 },
 "nbformat": 4,
 "nbformat_minor": 2
}
