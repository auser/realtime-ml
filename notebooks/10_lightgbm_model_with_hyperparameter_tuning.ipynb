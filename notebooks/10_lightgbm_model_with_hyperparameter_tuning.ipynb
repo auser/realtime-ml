{
 "cells": [
  {
   "cell_type": "code",
   "execution_count": 2,
   "metadata": {},
   "outputs": [],
   "source": [
    "import warnings\n",
    "warnings.filterwarnings('ignore')"
   ]
  },
  {
   "cell_type": "code",
   "execution_count": 3,
   "metadata": {},
   "outputs": [
    {
     "name": "stdout",
     "output_type": "stream",
     "text": [
      "X_train.shape=(32595, 674)\n",
      "y_train.shape=(32595,)\n",
      "X_test.shape=(40545, 674)\n",
      "y_test.shape=(40545,)\n"
     ]
    }
   ],
   "source": [
    "import pandas as pd\n",
    "from taxi_demand_predictor.paths import TRANSFORMED_DATA_DIR\n",
    "\n",
    "df = pd.read_parquet(TRANSFORMED_DATA_DIR / \"tabular_data.parquet\")\n",
    "\n",
    "from taxi_demand_predictor.data_split import train_test_split\n",
    "from datetime import datetime\n",
    "X_train, y_train, X_test, y_test = train_test_split(\n",
    "    df, \n",
    "    target_column_name='target_rides_next_hour', \n",
    "    cutoff_date=datetime(2022, 6, 1, 0, 0, 0))\n",
    "\n",
    "print(f'{X_train.shape=}')\n",
    "print(f'{y_train.shape=}')\n",
    "print(f'{X_test.shape=}')\n",
    "print(f'{y_test.shape=}')"
   ]
  },
  {
   "cell_type": "code",
   "execution_count": 6,
   "metadata": {},
   "outputs": [],
   "source": [
    "from taxi_demand_predictor.model import get_pipeline\n",
    "from sklearn.model_selection import TimeSeriesSplit, KFold\n",
    "import numpy as np\n",
    "from sklearn.metrics import mean_absolute_error\n",
    "from sklearn.pipeline import make_pipeline\n",
    "import optuna\n",
    "\n",
    "def objective(trial: optuna.trial.Trial, n_splits: int = 4) -> float:\n",
    "    hyperparams = {\n",
    "        \"metric\": \"mae\",\n",
    "        \"verbose\": -1,\n",
    "        \"num_leaves\": trial.suggest_int(\"num_leaves\", 2, 256),\n",
    "        \"feature_fraction\": trial.suggest_uniform(\"feature_fraction\", 0.2, 1.0),\n",
    "        \"bagging_fraction\": trial.suggest_uniform(\"bagging_fraction\", 0.2, 1.0),\n",
    "        \"min_child_samples\": trial.suggest_int(\"min_child_samples\", 3, 100),\n",
    "    }\n",
    "\n",
    "    tss = TimeSeriesSplit(n_splits=n_splits)\n",
    "    scores = []\n",
    "    for train_index, val_index in tss.split(X_train):\n",
    "        # Split data for training and validation\n",
    "        X_train_, X_val_ = X_train.iloc[train_index, :], X_train.iloc[val_index, :]\n",
    "        y_train_, y_val_ = y_train.iloc[train_index], y_train.iloc[val_index]\n",
    "\n",
    "        # train model\n",
    "        pipeline = get_pipeline(**hyperparams)\n",
    "        pipeline.fit(X_train_, y_train_)\n",
    "\n",
    "        # evaluate\n",
    "        y_pred = pipeline.predict(X_val_)\n",
    "        mae = mean_absolute_error(y_val_, y_pred)\n",
    "\n",
    "        scores.append(mae)\n",
    "\n",
    "    return np.array(scores).mean()"
   ]
  },
  {
   "cell_type": "code",
   "execution_count": 7,
   "metadata": {},
   "outputs": [
    {
     "name": "stderr",
     "output_type": "stream",
     "text": [
      "[I 2023-08-06 01:24:23,893] A new study created in memory with name: no-name-e65e5b42-7aca-45b7-8627-922a7560df63\n",
      "[I 2023-08-06 01:24:41,474] Trial 0 finished with value: 3.112308484128409 and parameters: {'num_leaves': 121, 'feature_fraction': 0.7356102884826023, 'bagging_fraction': 0.2569512573285109, 'min_child_samples': 20}. Best is trial 0 with value: 3.112308484128409.\n",
      "[I 2023-08-06 01:25:09,832] Trial 1 finished with value: 3.3703516080640017 and parameters: {'num_leaves': 175, 'feature_fraction': 0.5710355538087806, 'bagging_fraction': 0.7989623558707164, 'min_child_samples': 73}. Best is trial 0 with value: 3.112308484128409.\n",
      "[I 2023-08-06 01:25:42,255] Trial 2 finished with value: 3.2270415402074164 and parameters: {'num_leaves': 210, 'feature_fraction': 0.8775540217822762, 'bagging_fraction': 0.6810932391617193, 'min_child_samples': 38}. Best is trial 0 with value: 3.112308484128409.\n",
      "[I 2023-08-06 01:25:51,895] Trial 3 finished with value: 3.622255339534966 and parameters: {'num_leaves': 34, 'feature_fraction': 0.5370895769930977, 'bagging_fraction': 0.8422603167894749, 'min_child_samples': 91}. Best is trial 0 with value: 3.112308484128409.\n",
      "[I 2023-08-06 01:26:08,213] Trial 4 finished with value: 3.3925502752645853 and parameters: {'num_leaves': 90, 'feature_fraction': 0.33360600814852615, 'bagging_fraction': 0.7763709377421799, 'min_child_samples': 75}. Best is trial 0 with value: 3.112308484128409.\n"
     ]
    }
   ],
   "source": [
    "study = optuna.create_study(direction='minimize')\n",
    "study.optimize(objective, n_trials=5)"
   ]
  },
  {
   "cell_type": "code",
   "execution_count": 9,
   "metadata": {},
   "outputs": [
    {
     "name": "stdout",
     "output_type": "stream",
     "text": [
      "best_params={'num_leaves': 121, 'feature_fraction': 0.7356102884826023, 'bagging_fraction': 0.2569512573285109, 'min_child_samples': 20}\n"
     ]
    }
   ],
   "source": [
    "best_params = study.best_trial.params\n",
    "print(f'{best_params=}')"
   ]
  },
  {
   "cell_type": "code",
   "execution_count": 10,
   "metadata": {},
   "outputs": [
    {
     "name": "stdout",
     "output_type": "stream",
     "text": [
      "[LightGBM] [Warning] feature_fraction is set=0.7356102884826023, colsample_bytree=1.0 will be ignored. Current value: feature_fraction=0.7356102884826023\n",
      "[LightGBM] [Warning] bagging_fraction is set=0.2569512573285109, subsample=1.0 will be ignored. Current value: bagging_fraction=0.2569512573285109\n",
      "[LightGBM] [Warning] feature_fraction is set=0.7356102884826023, colsample_bytree=1.0 will be ignored. Current value: feature_fraction=0.7356102884826023\n",
      "[LightGBM] [Warning] bagging_fraction is set=0.2569512573285109, subsample=1.0 will be ignored. Current value: bagging_fraction=0.2569512573285109\n",
      "[LightGBM] [Warning] Auto-choosing row-wise multi-threading, the overhead of testing was 0.057349 seconds.\n",
      "You can set `force_row_wise=true` to remove the overhead.\n",
      "And if memory is not enough, you can set `force_col_wise=true`.\n",
      "[LightGBM] [Info] Total Bins 154527\n",
      "[LightGBM] [Info] Number of data points in the train set: 32595, number of used features: 675\n",
      "[LightGBM] [Info] Start training from score 11.571069\n"
     ]
    },
    {
     "data": {
      "text/html": [
       "<style>#sk-container-id-1 {color: black;}#sk-container-id-1 pre{padding: 0;}#sk-container-id-1 div.sk-toggleable {background-color: white;}#sk-container-id-1 label.sk-toggleable__label {cursor: pointer;display: block;width: 100%;margin-bottom: 0;padding: 0.3em;box-sizing: border-box;text-align: center;}#sk-container-id-1 label.sk-toggleable__label-arrow:before {content: \"▸\";float: left;margin-right: 0.25em;color: #696969;}#sk-container-id-1 label.sk-toggleable__label-arrow:hover:before {color: black;}#sk-container-id-1 div.sk-estimator:hover label.sk-toggleable__label-arrow:before {color: black;}#sk-container-id-1 div.sk-toggleable__content {max-height: 0;max-width: 0;overflow: hidden;text-align: left;background-color: #f0f8ff;}#sk-container-id-1 div.sk-toggleable__content pre {margin: 0.2em;color: black;border-radius: 0.25em;background-color: #f0f8ff;}#sk-container-id-1 input.sk-toggleable__control:checked~div.sk-toggleable__content {max-height: 200px;max-width: 100%;overflow: auto;}#sk-container-id-1 input.sk-toggleable__control:checked~label.sk-toggleable__label-arrow:before {content: \"▾\";}#sk-container-id-1 div.sk-estimator input.sk-toggleable__control:checked~label.sk-toggleable__label {background-color: #d4ebff;}#sk-container-id-1 div.sk-label input.sk-toggleable__control:checked~label.sk-toggleable__label {background-color: #d4ebff;}#sk-container-id-1 input.sk-hidden--visually {border: 0;clip: rect(1px 1px 1px 1px);clip: rect(1px, 1px, 1px, 1px);height: 1px;margin: -1px;overflow: hidden;padding: 0;position: absolute;width: 1px;}#sk-container-id-1 div.sk-estimator {font-family: monospace;background-color: #f0f8ff;border: 1px dotted black;border-radius: 0.25em;box-sizing: border-box;margin-bottom: 0.5em;}#sk-container-id-1 div.sk-estimator:hover {background-color: #d4ebff;}#sk-container-id-1 div.sk-parallel-item::after {content: \"\";width: 100%;border-bottom: 1px solid gray;flex-grow: 1;}#sk-container-id-1 div.sk-label:hover label.sk-toggleable__label {background-color: #d4ebff;}#sk-container-id-1 div.sk-serial::before {content: \"\";position: absolute;border-left: 1px solid gray;box-sizing: border-box;top: 0;bottom: 0;left: 50%;z-index: 0;}#sk-container-id-1 div.sk-serial {display: flex;flex-direction: column;align-items: center;background-color: white;padding-right: 0.2em;padding-left: 0.2em;position: relative;}#sk-container-id-1 div.sk-item {position: relative;z-index: 1;}#sk-container-id-1 div.sk-parallel {display: flex;align-items: stretch;justify-content: center;background-color: white;position: relative;}#sk-container-id-1 div.sk-item::before, #sk-container-id-1 div.sk-parallel-item::before {content: \"\";position: absolute;border-left: 1px solid gray;box-sizing: border-box;top: 0;bottom: 0;left: 50%;z-index: -1;}#sk-container-id-1 div.sk-parallel-item {display: flex;flex-direction: column;z-index: 1;position: relative;background-color: white;}#sk-container-id-1 div.sk-parallel-item:first-child::after {align-self: flex-end;width: 50%;}#sk-container-id-1 div.sk-parallel-item:last-child::after {align-self: flex-start;width: 50%;}#sk-container-id-1 div.sk-parallel-item:only-child::after {width: 0;}#sk-container-id-1 div.sk-dashed-wrapped {border: 1px dashed gray;margin: 0 0.4em 0.5em 0.4em;box-sizing: border-box;padding-bottom: 0.4em;background-color: white;}#sk-container-id-1 div.sk-label label {font-family: monospace;font-weight: bold;display: inline-block;line-height: 1.2em;}#sk-container-id-1 div.sk-label-container {text-align: center;}#sk-container-id-1 div.sk-container {/* jupyter's `normalize.less` sets `[hidden] { display: none; }` but bootstrap.min.css set `[hidden] { display: none !important; }` so we also need the `!important` here to be able to override the default hidden behavior on the sphinx rendered scikit-learn.org. See: https://github.com/scikit-learn/scikit-learn/issues/21755 */display: inline-block !important;position: relative;}#sk-container-id-1 div.sk-text-repr-fallback {display: none;}</style><div id=\"sk-container-id-1\" class=\"sk-top-container\"><div class=\"sk-text-repr-fallback\"><pre>Pipeline(steps=[(&#x27;functiontransformer&#x27;,\n",
       "                 FunctionTransformer(func=&lt;function average_rides_last_4_weeks at 0x125cd69e0&gt;)),\n",
       "                (&#x27;temporalfeatureengineer&#x27;, TemporalFeatureEngineer()),\n",
       "                (&#x27;lgbmregressor&#x27;,\n",
       "                 LGBMRegressor(bagging_fraction=0.2569512573285109,\n",
       "                               feature_fraction=0.7356102884826023,\n",
       "                               num_leaves=121))])</pre><b>In a Jupyter environment, please rerun this cell to show the HTML representation or trust the notebook. <br />On GitHub, the HTML representation is unable to render, please try loading this page with nbviewer.org.</b></div><div class=\"sk-container\" hidden><div class=\"sk-item sk-dashed-wrapped\"><div class=\"sk-label-container\"><div class=\"sk-label sk-toggleable\"><input class=\"sk-toggleable__control sk-hidden--visually\" id=\"sk-estimator-id-1\" type=\"checkbox\" ><label for=\"sk-estimator-id-1\" class=\"sk-toggleable__label sk-toggleable__label-arrow\">Pipeline</label><div class=\"sk-toggleable__content\"><pre>Pipeline(steps=[(&#x27;functiontransformer&#x27;,\n",
       "                 FunctionTransformer(func=&lt;function average_rides_last_4_weeks at 0x125cd69e0&gt;)),\n",
       "                (&#x27;temporalfeatureengineer&#x27;, TemporalFeatureEngineer()),\n",
       "                (&#x27;lgbmregressor&#x27;,\n",
       "                 LGBMRegressor(bagging_fraction=0.2569512573285109,\n",
       "                               feature_fraction=0.7356102884826023,\n",
       "                               num_leaves=121))])</pre></div></div></div><div class=\"sk-serial\"><div class=\"sk-item\"><div class=\"sk-estimator sk-toggleable\"><input class=\"sk-toggleable__control sk-hidden--visually\" id=\"sk-estimator-id-2\" type=\"checkbox\" ><label for=\"sk-estimator-id-2\" class=\"sk-toggleable__label sk-toggleable__label-arrow\">FunctionTransformer</label><div class=\"sk-toggleable__content\"><pre>FunctionTransformer(func=&lt;function average_rides_last_4_weeks at 0x125cd69e0&gt;)</pre></div></div></div><div class=\"sk-item\"><div class=\"sk-estimator sk-toggleable\"><input class=\"sk-toggleable__control sk-hidden--visually\" id=\"sk-estimator-id-3\" type=\"checkbox\" ><label for=\"sk-estimator-id-3\" class=\"sk-toggleable__label sk-toggleable__label-arrow\">TemporalFeatureEngineer</label><div class=\"sk-toggleable__content\"><pre>TemporalFeatureEngineer()</pre></div></div></div><div class=\"sk-item\"><div class=\"sk-estimator sk-toggleable\"><input class=\"sk-toggleable__control sk-hidden--visually\" id=\"sk-estimator-id-4\" type=\"checkbox\" ><label for=\"sk-estimator-id-4\" class=\"sk-toggleable__label sk-toggleable__label-arrow\">LGBMRegressor</label><div class=\"sk-toggleable__content\"><pre>LGBMRegressor(bagging_fraction=0.2569512573285109,\n",
       "              feature_fraction=0.7356102884826023, num_leaves=121)</pre></div></div></div></div></div></div></div>"
      ],
      "text/plain": [
       "Pipeline(steps=[('functiontransformer',\n",
       "                 FunctionTransformer(func=<function average_rides_last_4_weeks at 0x125cd69e0>)),\n",
       "                ('temporalfeatureengineer', TemporalFeatureEngineer()),\n",
       "                ('lgbmregressor',\n",
       "                 LGBMRegressor(bagging_fraction=0.2569512573285109,\n",
       "                               feature_fraction=0.7356102884826023,\n",
       "                               num_leaves=121))])"
      ]
     },
     "execution_count": 10,
     "metadata": {},
     "output_type": "execute_result"
    }
   ],
   "source": [
    "pipeline = get_pipeline(**best_params)\n",
    "pipeline.fit(X_train, y_train)"
   ]
  },
  {
   "cell_type": "code",
   "execution_count": 11,
   "metadata": {},
   "outputs": [
    {
     "name": "stdout",
     "output_type": "stream",
     "text": [
      "[LightGBM] [Warning] feature_fraction is set=0.7356102884826023, colsample_bytree=1.0 will be ignored. Current value: feature_fraction=0.7356102884826023\n",
      "[LightGBM] [Warning] bagging_fraction is set=0.2569512573285109, subsample=1.0 will be ignored. Current value: bagging_fraction=0.2569512573285109\n",
      "test_mae=2.4338\n"
     ]
    }
   ],
   "source": [
    "predictions = pipeline.predict(X_test)\n",
    "test_mae = mean_absolute_error(y_test, predictions)\n",
    "print(f'{test_mae=:.4f}')"
   ]
  },
  {
   "cell_type": "code",
   "execution_count": 14,
   "metadata": {},
   "outputs": [
    {
     "data": {
      "application/vnd.plotly.v1+json": {
       "config": {
        "plotlyServerURL": "https://plot.ly"
       },
       "data": [
        {
         "hovertemplate": "x=%{x}<br>y=%{y}<extra></extra>",
         "legendgroup": "",
         "line": {
          "color": "#636efa",
          "dash": "solid"
         },
         "marker": {
          "symbol": "circle"
         },
         "mode": "markers+lines",
         "name": "",
         "orientation": "v",
         "showlegend": false,
         "type": "scatter",
         "x": [
          "2022-07-26T00:00:00",
          "2022-07-26T01:00:00",
          "2022-07-26T02:00:00",
          "2022-07-26T03:00:00",
          "2022-07-26T04:00:00",
          "2022-07-26T05:00:00",
          "2022-07-26T06:00:00",
          "2022-07-26T07:00:00",
          "2022-07-26T08:00:00",
          "2022-07-26T09:00:00",
          "2022-07-26T10:00:00",
          "2022-07-26T11:00:00",
          "2022-07-26T12:00:00",
          "2022-07-26T13:00:00",
          "2022-07-26T14:00:00",
          "2022-07-26T15:00:00",
          "2022-07-26T16:00:00",
          "2022-07-26T17:00:00",
          "2022-07-26T18:00:00",
          "2022-07-26T19:00:00",
          "2022-07-26T20:00:00",
          "2022-07-26T21:00:00",
          "2022-07-26T22:00:00",
          "2022-07-26T23:00:00",
          "2022-07-27T00:00:00",
          "2022-07-27T01:00:00",
          "2022-07-27T02:00:00",
          "2022-07-27T03:00:00",
          "2022-07-27T04:00:00",
          "2022-07-27T05:00:00",
          "2022-07-27T06:00:00",
          "2022-07-27T07:00:00",
          "2022-07-27T08:00:00",
          "2022-07-27T09:00:00",
          "2022-07-27T10:00:00",
          "2022-07-27T11:00:00",
          "2022-07-27T12:00:00",
          "2022-07-27T13:00:00",
          "2022-07-27T14:00:00",
          "2022-07-27T15:00:00",
          "2022-07-27T16:00:00",
          "2022-07-27T17:00:00",
          "2022-07-27T18:00:00",
          "2022-07-27T19:00:00",
          "2022-07-27T20:00:00",
          "2022-07-27T21:00:00",
          "2022-07-27T22:00:00",
          "2022-07-27T23:00:00",
          "2022-07-28T00:00:00",
          "2022-07-28T01:00:00",
          "2022-07-28T02:00:00",
          "2022-07-28T03:00:00",
          "2022-07-28T04:00:00",
          "2022-07-28T05:00:00",
          "2022-07-28T06:00:00",
          "2022-07-28T07:00:00",
          "2022-07-28T08:00:00",
          "2022-07-28T09:00:00",
          "2022-07-28T10:00:00",
          "2022-07-28T11:00:00",
          "2022-07-28T12:00:00",
          "2022-07-28T13:00:00",
          "2022-07-28T14:00:00",
          "2022-07-28T15:00:00",
          "2022-07-28T16:00:00",
          "2022-07-28T17:00:00",
          "2022-07-28T18:00:00",
          "2022-07-28T19:00:00",
          "2022-07-28T20:00:00",
          "2022-07-28T21:00:00",
          "2022-07-28T22:00:00",
          "2022-07-28T23:00:00",
          "2022-07-29T00:00:00",
          "2022-07-29T01:00:00",
          "2022-07-29T02:00:00",
          "2022-07-29T03:00:00",
          "2022-07-29T04:00:00",
          "2022-07-29T05:00:00",
          "2022-07-29T06:00:00",
          "2022-07-29T07:00:00",
          "2022-07-29T08:00:00",
          "2022-07-29T09:00:00",
          "2022-07-29T10:00:00",
          "2022-07-29T11:00:00",
          "2022-07-29T12:00:00",
          "2022-07-29T13:00:00",
          "2022-07-29T14:00:00",
          "2022-07-29T15:00:00",
          "2022-07-29T16:00:00",
          "2022-07-29T17:00:00",
          "2022-07-29T18:00:00",
          "2022-07-29T19:00:00",
          "2022-07-29T20:00:00",
          "2022-07-29T21:00:00",
          "2022-07-29T22:00:00",
          "2022-07-29T23:00:00",
          "2022-07-30T00:00:00",
          "2022-07-30T01:00:00",
          "2022-07-30T02:00:00",
          "2022-07-30T03:00:00",
          "2022-07-30T04:00:00",
          "2022-07-30T05:00:00",
          "2022-07-30T06:00:00",
          "2022-07-30T07:00:00",
          "2022-07-30T08:00:00",
          "2022-07-30T09:00:00",
          "2022-07-30T10:00:00",
          "2022-07-30T11:00:00",
          "2022-07-30T12:00:00",
          "2022-07-30T13:00:00",
          "2022-07-30T14:00:00",
          "2022-07-30T15:00:00",
          "2022-07-30T16:00:00",
          "2022-07-30T17:00:00",
          "2022-07-30T18:00:00",
          "2022-07-30T19:00:00",
          "2022-07-30T20:00:00",
          "2022-07-30T21:00:00",
          "2022-07-30T22:00:00",
          "2022-07-30T23:00:00",
          "2022-07-31T00:00:00",
          "2022-07-31T01:00:00",
          "2022-07-31T02:00:00",
          "2022-07-31T03:00:00",
          "2022-07-31T04:00:00",
          "2022-07-31T05:00:00",
          "2022-07-31T06:00:00",
          "2022-07-31T07:00:00",
          "2022-07-31T08:00:00",
          "2022-07-31T09:00:00",
          "2022-07-31T10:00:00",
          "2022-07-31T11:00:00",
          "2022-07-31T12:00:00",
          "2022-07-31T13:00:00",
          "2022-07-31T14:00:00",
          "2022-07-31T15:00:00",
          "2022-07-31T16:00:00",
          "2022-07-31T17:00:00",
          "2022-07-31T18:00:00",
          "2022-07-31T19:00:00",
          "2022-07-31T20:00:00",
          "2022-07-31T21:00:00",
          "2022-07-31T22:00:00",
          "2022-07-31T23:00:00",
          "2022-08-01T00:00:00",
          "2022-08-01T01:00:00",
          "2022-08-01T02:00:00",
          "2022-08-01T03:00:00",
          "2022-08-01T04:00:00",
          "2022-08-01T05:00:00",
          "2022-08-01T06:00:00",
          "2022-08-01T07:00:00",
          "2022-08-01T08:00:00",
          "2022-08-01T09:00:00",
          "2022-08-01T10:00:00",
          "2022-08-01T11:00:00",
          "2022-08-01T12:00:00",
          "2022-08-01T13:00:00",
          "2022-08-01T14:00:00",
          "2022-08-01T15:00:00",
          "2022-08-01T16:00:00",
          "2022-08-01T17:00:00",
          "2022-08-01T18:00:00",
          "2022-08-01T19:00:00",
          "2022-08-01T20:00:00",
          "2022-08-01T21:00:00",
          "2022-08-01T22:00:00",
          "2022-08-01T23:00:00",
          "2022-08-02T00:00:00",
          "2022-08-02T01:00:00",
          "2022-08-02T02:00:00",
          "2022-08-02T03:00:00",
          "2022-08-02T04:00:00",
          "2022-08-02T05:00:00",
          "2022-08-02T06:00:00",
          "2022-08-02T07:00:00",
          "2022-08-02T08:00:00",
          "2022-08-02T09:00:00",
          "2022-08-02T10:00:00",
          "2022-08-02T11:00:00",
          "2022-08-02T12:00:00",
          "2022-08-02T13:00:00",
          "2022-08-02T14:00:00",
          "2022-08-02T15:00:00",
          "2022-08-02T16:00:00",
          "2022-08-02T17:00:00",
          "2022-08-02T18:00:00",
          "2022-08-02T19:00:00",
          "2022-08-02T20:00:00",
          "2022-08-02T21:00:00",
          "2022-08-02T22:00:00",
          "2022-08-02T23:00:00",
          "2022-08-03T00:00:00",
          "2022-08-03T01:00:00",
          "2022-08-03T02:00:00",
          "2022-08-03T03:00:00",
          "2022-08-03T04:00:00",
          "2022-08-03T05:00:00",
          "2022-08-03T06:00:00",
          "2022-08-03T07:00:00",
          "2022-08-03T08:00:00",
          "2022-08-03T09:00:00",
          "2022-08-03T10:00:00",
          "2022-08-03T11:00:00",
          "2022-08-03T12:00:00",
          "2022-08-03T13:00:00",
          "2022-08-03T14:00:00",
          "2022-08-03T15:00:00",
          "2022-08-03T16:00:00",
          "2022-08-03T17:00:00",
          "2022-08-03T18:00:00",
          "2022-08-03T19:00:00",
          "2022-08-03T20:00:00",
          "2022-08-03T21:00:00",
          "2022-08-03T22:00:00",
          "2022-08-03T23:00:00",
          "2022-08-04T00:00:00",
          "2022-08-04T01:00:00",
          "2022-08-04T02:00:00",
          "2022-08-04T03:00:00",
          "2022-08-04T04:00:00",
          "2022-08-04T05:00:00",
          "2022-08-04T06:00:00",
          "2022-08-04T07:00:00",
          "2022-08-04T08:00:00",
          "2022-08-04T09:00:00",
          "2022-08-04T10:00:00",
          "2022-08-04T11:00:00",
          "2022-08-04T12:00:00",
          "2022-08-04T13:00:00",
          "2022-08-04T14:00:00",
          "2022-08-04T15:00:00",
          "2022-08-04T16:00:00",
          "2022-08-04T17:00:00",
          "2022-08-04T18:00:00",
          "2022-08-04T19:00:00",
          "2022-08-04T20:00:00",
          "2022-08-04T21:00:00",
          "2022-08-04T22:00:00",
          "2022-08-04T23:00:00",
          "2022-08-05T00:00:00",
          "2022-08-05T01:00:00",
          "2022-08-05T02:00:00",
          "2022-08-05T03:00:00",
          "2022-08-05T04:00:00",
          "2022-08-05T05:00:00",
          "2022-08-05T06:00:00",
          "2022-08-05T07:00:00",
          "2022-08-05T08:00:00",
          "2022-08-05T09:00:00",
          "2022-08-05T10:00:00",
          "2022-08-05T11:00:00",
          "2022-08-05T12:00:00",
          "2022-08-05T13:00:00",
          "2022-08-05T14:00:00",
          "2022-08-05T15:00:00",
          "2022-08-05T16:00:00",
          "2022-08-05T17:00:00",
          "2022-08-05T18:00:00",
          "2022-08-05T19:00:00",
          "2022-08-05T20:00:00",
          "2022-08-05T21:00:00",
          "2022-08-05T22:00:00",
          "2022-08-05T23:00:00",
          "2022-08-06T00:00:00",
          "2022-08-06T01:00:00",
          "2022-08-06T02:00:00",
          "2022-08-06T03:00:00",
          "2022-08-06T04:00:00",
          "2022-08-06T05:00:00",
          "2022-08-06T06:00:00",
          "2022-08-06T07:00:00",
          "2022-08-06T08:00:00",
          "2022-08-06T09:00:00",
          "2022-08-06T10:00:00",
          "2022-08-06T11:00:00",
          "2022-08-06T12:00:00",
          "2022-08-06T13:00:00",
          "2022-08-06T14:00:00",
          "2022-08-06T15:00:00",
          "2022-08-06T16:00:00",
          "2022-08-06T17:00:00",
          "2022-08-06T18:00:00",
          "2022-08-06T19:00:00",
          "2022-08-06T20:00:00",
          "2022-08-06T21:00:00",
          "2022-08-06T22:00:00",
          "2022-08-06T23:00:00",
          "2022-08-07T00:00:00",
          "2022-08-07T01:00:00",
          "2022-08-07T02:00:00",
          "2022-08-07T03:00:00",
          "2022-08-07T04:00:00",
          "2022-08-07T05:00:00",
          "2022-08-07T06:00:00",
          "2022-08-07T07:00:00",
          "2022-08-07T08:00:00",
          "2022-08-07T09:00:00",
          "2022-08-07T10:00:00",
          "2022-08-07T11:00:00",
          "2022-08-07T12:00:00",
          "2022-08-07T13:00:00",
          "2022-08-07T14:00:00",
          "2022-08-07T15:00:00",
          "2022-08-07T16:00:00",
          "2022-08-07T17:00:00",
          "2022-08-07T18:00:00",
          "2022-08-07T19:00:00",
          "2022-08-07T20:00:00",
          "2022-08-07T21:00:00",
          "2022-08-07T22:00:00",
          "2022-08-07T23:00:00",
          "2022-08-08T00:00:00",
          "2022-08-08T01:00:00",
          "2022-08-08T02:00:00",
          "2022-08-08T03:00:00",
          "2022-08-08T04:00:00",
          "2022-08-08T05:00:00",
          "2022-08-08T06:00:00",
          "2022-08-08T07:00:00",
          "2022-08-08T08:00:00",
          "2022-08-08T09:00:00",
          "2022-08-08T10:00:00",
          "2022-08-08T11:00:00",
          "2022-08-08T12:00:00",
          "2022-08-08T13:00:00",
          "2022-08-08T14:00:00",
          "2022-08-08T15:00:00",
          "2022-08-08T16:00:00",
          "2022-08-08T17:00:00",
          "2022-08-08T18:00:00",
          "2022-08-08T19:00:00",
          "2022-08-08T20:00:00",
          "2022-08-08T21:00:00",
          "2022-08-08T22:00:00",
          "2022-08-08T23:00:00",
          "2022-08-09T00:00:00",
          "2022-08-09T01:00:00",
          "2022-08-09T02:00:00",
          "2022-08-09T03:00:00",
          "2022-08-09T04:00:00",
          "2022-08-09T05:00:00",
          "2022-08-09T06:00:00",
          "2022-08-09T07:00:00",
          "2022-08-09T08:00:00",
          "2022-08-09T09:00:00",
          "2022-08-09T10:00:00",
          "2022-08-09T11:00:00",
          "2022-08-09T12:00:00",
          "2022-08-09T13:00:00",
          "2022-08-09T14:00:00",
          "2022-08-09T15:00:00",
          "2022-08-09T16:00:00",
          "2022-08-09T17:00:00",
          "2022-08-09T18:00:00",
          "2022-08-09T19:00:00",
          "2022-08-09T20:00:00",
          "2022-08-09T21:00:00",
          "2022-08-09T22:00:00",
          "2022-08-09T23:00:00",
          "2022-08-10T00:00:00",
          "2022-08-10T01:00:00",
          "2022-08-10T02:00:00",
          "2022-08-10T03:00:00",
          "2022-08-10T04:00:00",
          "2022-08-10T05:00:00",
          "2022-08-10T06:00:00",
          "2022-08-10T07:00:00",
          "2022-08-10T08:00:00",
          "2022-08-10T09:00:00",
          "2022-08-10T10:00:00",
          "2022-08-10T11:00:00",
          "2022-08-10T12:00:00",
          "2022-08-10T13:00:00",
          "2022-08-10T14:00:00",
          "2022-08-10T15:00:00",
          "2022-08-10T16:00:00",
          "2022-08-10T17:00:00",
          "2022-08-10T18:00:00",
          "2022-08-10T19:00:00",
          "2022-08-10T20:00:00",
          "2022-08-10T21:00:00",
          "2022-08-10T22:00:00",
          "2022-08-10T23:00:00",
          "2022-08-11T00:00:00",
          "2022-08-11T01:00:00",
          "2022-08-11T02:00:00",
          "2022-08-11T03:00:00",
          "2022-08-11T04:00:00",
          "2022-08-11T05:00:00",
          "2022-08-11T06:00:00",
          "2022-08-11T07:00:00",
          "2022-08-11T08:00:00",
          "2022-08-11T09:00:00",
          "2022-08-11T10:00:00",
          "2022-08-11T11:00:00",
          "2022-08-11T12:00:00",
          "2022-08-11T13:00:00",
          "2022-08-11T14:00:00",
          "2022-08-11T15:00:00",
          "2022-08-11T16:00:00",
          "2022-08-11T17:00:00",
          "2022-08-11T18:00:00",
          "2022-08-11T19:00:00",
          "2022-08-11T20:00:00",
          "2022-08-11T21:00:00",
          "2022-08-11T22:00:00",
          "2022-08-11T23:00:00",
          "2022-08-12T00:00:00",
          "2022-08-12T01:00:00",
          "2022-08-12T02:00:00",
          "2022-08-12T03:00:00",
          "2022-08-12T04:00:00",
          "2022-08-12T05:00:00",
          "2022-08-12T06:00:00",
          "2022-08-12T07:00:00",
          "2022-08-12T08:00:00",
          "2022-08-12T09:00:00",
          "2022-08-12T10:00:00",
          "2022-08-12T11:00:00",
          "2022-08-12T12:00:00",
          "2022-08-12T13:00:00",
          "2022-08-12T14:00:00",
          "2022-08-12T15:00:00",
          "2022-08-12T16:00:00",
          "2022-08-12T17:00:00",
          "2022-08-12T18:00:00",
          "2022-08-12T19:00:00",
          "2022-08-12T20:00:00",
          "2022-08-12T21:00:00",
          "2022-08-12T22:00:00",
          "2022-08-12T23:00:00",
          "2022-08-13T00:00:00",
          "2022-08-13T01:00:00",
          "2022-08-13T02:00:00",
          "2022-08-13T03:00:00",
          "2022-08-13T04:00:00",
          "2022-08-13T05:00:00",
          "2022-08-13T06:00:00",
          "2022-08-13T07:00:00",
          "2022-08-13T08:00:00",
          "2022-08-13T09:00:00",
          "2022-08-13T10:00:00",
          "2022-08-13T11:00:00",
          "2022-08-13T12:00:00",
          "2022-08-13T13:00:00",
          "2022-08-13T14:00:00",
          "2022-08-13T15:00:00",
          "2022-08-13T16:00:00",
          "2022-08-13T17:00:00",
          "2022-08-13T18:00:00",
          "2022-08-13T19:00:00",
          "2022-08-13T20:00:00",
          "2022-08-13T21:00:00",
          "2022-08-13T22:00:00",
          "2022-08-13T23:00:00",
          "2022-08-14T00:00:00",
          "2022-08-14T01:00:00",
          "2022-08-14T02:00:00",
          "2022-08-14T03:00:00",
          "2022-08-14T04:00:00",
          "2022-08-14T05:00:00",
          "2022-08-14T06:00:00",
          "2022-08-14T07:00:00",
          "2022-08-14T08:00:00",
          "2022-08-14T09:00:00",
          "2022-08-14T10:00:00",
          "2022-08-14T11:00:00",
          "2022-08-14T12:00:00",
          "2022-08-14T13:00:00",
          "2022-08-14T14:00:00",
          "2022-08-14T15:00:00",
          "2022-08-14T16:00:00",
          "2022-08-14T17:00:00",
          "2022-08-14T18:00:00",
          "2022-08-14T19:00:00",
          "2022-08-14T20:00:00",
          "2022-08-14T21:00:00",
          "2022-08-14T22:00:00",
          "2022-08-14T23:00:00",
          "2022-08-15T00:00:00",
          "2022-08-15T01:00:00",
          "2022-08-15T02:00:00",
          "2022-08-15T03:00:00",
          "2022-08-15T04:00:00",
          "2022-08-15T05:00:00",
          "2022-08-15T06:00:00",
          "2022-08-15T07:00:00",
          "2022-08-15T08:00:00",
          "2022-08-15T09:00:00",
          "2022-08-15T10:00:00",
          "2022-08-15T11:00:00",
          "2022-08-15T12:00:00",
          "2022-08-15T13:00:00",
          "2022-08-15T14:00:00",
          "2022-08-15T15:00:00",
          "2022-08-15T16:00:00",
          "2022-08-15T17:00:00",
          "2022-08-15T18:00:00",
          "2022-08-15T19:00:00",
          "2022-08-15T20:00:00",
          "2022-08-15T21:00:00",
          "2022-08-15T22:00:00",
          "2022-08-15T23:00:00",
          "2022-08-16T00:00:00",
          "2022-08-16T01:00:00",
          "2022-08-16T02:00:00",
          "2022-08-16T03:00:00",
          "2022-08-16T04:00:00",
          "2022-08-16T05:00:00",
          "2022-08-16T06:00:00",
          "2022-08-16T07:00:00",
          "2022-08-16T08:00:00",
          "2022-08-16T09:00:00",
          "2022-08-16T10:00:00",
          "2022-08-16T11:00:00",
          "2022-08-16T12:00:00",
          "2022-08-16T13:00:00",
          "2022-08-16T14:00:00",
          "2022-08-16T15:00:00",
          "2022-08-16T16:00:00",
          "2022-08-16T17:00:00",
          "2022-08-16T18:00:00",
          "2022-08-16T19:00:00",
          "2022-08-16T20:00:00",
          "2022-08-16T21:00:00",
          "2022-08-16T22:00:00",
          "2022-08-16T23:00:00",
          "2022-08-17T00:00:00",
          "2022-08-17T01:00:00",
          "2022-08-17T02:00:00",
          "2022-08-17T03:00:00",
          "2022-08-17T04:00:00",
          "2022-08-17T05:00:00",
          "2022-08-17T06:00:00",
          "2022-08-17T07:00:00",
          "2022-08-17T08:00:00",
          "2022-08-17T09:00:00",
          "2022-08-17T10:00:00",
          "2022-08-17T11:00:00",
          "2022-08-17T12:00:00",
          "2022-08-17T13:00:00",
          "2022-08-17T14:00:00",
          "2022-08-17T15:00:00",
          "2022-08-17T16:00:00",
          "2022-08-17T17:00:00",
          "2022-08-17T18:00:00",
          "2022-08-17T19:00:00",
          "2022-08-17T20:00:00",
          "2022-08-17T21:00:00",
          "2022-08-17T22:00:00",
          "2022-08-17T23:00:00",
          "2022-08-18T00:00:00",
          "2022-08-18T01:00:00",
          "2022-08-18T02:00:00",
          "2022-08-18T03:00:00",
          "2022-08-18T04:00:00",
          "2022-08-18T05:00:00",
          "2022-08-18T06:00:00",
          "2022-08-18T07:00:00",
          "2022-08-18T08:00:00",
          "2022-08-18T09:00:00",
          "2022-08-18T10:00:00",
          "2022-08-18T11:00:00",
          "2022-08-18T12:00:00",
          "2022-08-18T13:00:00",
          "2022-08-18T14:00:00",
          "2022-08-18T15:00:00",
          "2022-08-18T16:00:00",
          "2022-08-18T17:00:00",
          "2022-08-18T18:00:00",
          "2022-08-18T19:00:00",
          "2022-08-18T20:00:00",
          "2022-08-18T21:00:00",
          "2022-08-18T22:00:00",
          "2022-08-18T23:00:00",
          "2022-08-19T00:00:00",
          "2022-08-19T01:00:00",
          "2022-08-19T02:00:00",
          "2022-08-19T03:00:00",
          "2022-08-19T04:00:00",
          "2022-08-19T05:00:00",
          "2022-08-19T06:00:00",
          "2022-08-19T07:00:00",
          "2022-08-19T08:00:00",
          "2022-08-19T09:00:00",
          "2022-08-19T10:00:00",
          "2022-08-19T11:00:00",
          "2022-08-19T12:00:00",
          "2022-08-19T13:00:00",
          "2022-08-19T14:00:00",
          "2022-08-19T15:00:00",
          "2022-08-19T16:00:00",
          "2022-08-19T17:00:00",
          "2022-08-19T18:00:00",
          "2022-08-19T19:00:00",
          "2022-08-19T20:00:00",
          "2022-08-19T21:00:00",
          "2022-08-19T22:00:00",
          "2022-08-19T23:00:00",
          "2022-08-20T00:00:00",
          "2022-08-20T01:00:00",
          "2022-08-20T02:00:00",
          "2022-08-20T03:00:00",
          "2022-08-20T04:00:00",
          "2022-08-20T05:00:00",
          "2022-08-20T06:00:00",
          "2022-08-20T07:00:00",
          "2022-08-20T08:00:00",
          "2022-08-20T09:00:00",
          "2022-08-20T10:00:00",
          "2022-08-20T11:00:00",
          "2022-08-20T12:00:00",
          "2022-08-20T13:00:00",
          "2022-08-20T14:00:00",
          "2022-08-20T15:00:00",
          "2022-08-20T16:00:00",
          "2022-08-20T17:00:00",
          "2022-08-20T18:00:00",
          "2022-08-20T19:00:00",
          "2022-08-20T20:00:00",
          "2022-08-20T21:00:00",
          "2022-08-20T22:00:00",
          "2022-08-20T23:00:00",
          "2022-08-21T00:00:00",
          "2022-08-21T01:00:00",
          "2022-08-21T02:00:00",
          "2022-08-21T03:00:00",
          "2022-08-21T04:00:00",
          "2022-08-21T05:00:00",
          "2022-08-21T06:00:00",
          "2022-08-21T07:00:00",
          "2022-08-21T08:00:00",
          "2022-08-21T09:00:00",
          "2022-08-21T10:00:00",
          "2022-08-21T11:00:00",
          "2022-08-21T12:00:00",
          "2022-08-21T13:00:00",
          "2022-08-21T14:00:00",
          "2022-08-21T15:00:00",
          "2022-08-21T16:00:00",
          "2022-08-21T17:00:00",
          "2022-08-21T18:00:00",
          "2022-08-21T19:00:00",
          "2022-08-21T20:00:00",
          "2022-08-21T21:00:00",
          "2022-08-21T22:00:00",
          "2022-08-21T23:00:00",
          "2022-08-22T00:00:00",
          "2022-08-22T01:00:00",
          "2022-08-22T02:00:00",
          "2022-08-22T03:00:00",
          "2022-08-22T04:00:00",
          "2022-08-22T05:00:00",
          "2022-08-22T06:00:00",
          "2022-08-22T07:00:00",
          "2022-08-22T08:00:00",
          "2022-08-22T09:00:00",
          "2022-08-22T10:00:00",
          "2022-08-22T11:00:00",
          "2022-08-22T12:00:00",
          "2022-08-22T13:00:00",
          "2022-08-22T14:00:00",
          "2022-08-22T15:00:00",
          "2022-08-22T16:00:00",
          "2022-08-22T17:00:00",
          "2022-08-22T18:00:00",
          "2022-08-22T19:00:00",
          "2022-08-22T20:00:00",
          "2022-08-22T21:00:00",
          "2022-08-22T22:00:00",
          "2022-08-22T23:00:00",
          "2022-08-23T00:00:00"
         ],
         "xaxis": "x",
         "y": [
          0,
          0,
          0,
          0,
          0,
          1,
          5,
          4,
          7,
          7,
          1,
          3,
          3,
          2,
          3,
          3,
          4,
          2,
          6,
          2,
          2,
          5,
          2,
          1,
          2,
          2,
          0,
          0,
          0,
          1,
          11,
          7,
          10,
          8,
          5,
          2,
          5,
          2,
          5,
          3,
          8,
          4,
          1,
          5,
          2,
          3,
          3,
          3,
          1,
          0,
          0,
          0,
          0,
          0,
          5,
          4,
          6,
          3,
          4,
          0,
          1,
          3,
          3,
          4,
          4,
          2,
          5,
          6,
          4,
          3,
          4,
          3,
          1,
          0,
          0,
          0,
          1,
          2,
          4,
          1,
          3,
          6,
          3,
          3,
          4,
          0,
          4,
          4,
          3,
          3,
          4,
          3,
          2,
          2,
          2,
          2,
          1,
          0,
          1,
          0,
          0,
          0,
          0,
          0,
          0,
          2,
          5,
          4,
          3,
          4,
          3,
          6,
          6,
          9,
          4,
          7,
          10,
          2,
          8,
          4,
          2,
          1,
          0,
          0,
          1,
          0,
          0,
          0,
          3,
          1,
          0,
          1,
          6,
          1,
          4,
          7,
          2,
          4,
          2,
          4,
          3,
          3,
          0,
          0,
          1,
          0,
          0,
          0,
          1,
          0,
          2,
          2,
          8,
          3,
          4,
          4,
          3,
          6,
          3,
          5,
          3,
          4,
          3,
          1,
          1,
          2,
          7,
          0,
          0,
          0,
          0,
          0,
          0,
          0,
          5,
          1,
          5,
          4,
          2,
          3,
          4,
          2,
          1,
          2,
          6,
          2,
          2,
          3,
          1,
          7,
          3,
          1,
          2,
          0,
          1,
          0,
          0,
          0,
          6,
          1,
          9,
          5,
          0,
          1,
          2,
          4,
          1,
          4,
          5,
          9,
          1,
          0,
          4,
          8,
          4,
          2,
          1,
          0,
          0,
          0,
          0,
          1,
          4,
          5,
          10,
          8,
          0,
          0,
          2,
          3,
          5,
          2,
          5,
          5,
          4,
          5,
          1,
          3,
          4,
          2,
          0,
          0,
          0,
          0,
          0,
          0,
          3,
          5,
          5,
          5,
          1,
          3,
          4,
          5,
          11,
          3,
          7,
          0,
          2,
          4,
          2,
          1,
          2,
          5,
          1,
          1,
          0,
          0,
          0,
          0,
          0,
          0,
          1,
          2,
          1,
          3,
          4,
          3,
          3,
          0,
          8,
          6,
          2,
          1,
          3,
          5,
          6,
          10,
          1,
          0,
          0,
          0,
          0,
          0,
          2,
          1,
          3,
          1,
          1,
          3,
          3,
          4,
          5,
          8,
          3,
          2,
          0,
          5,
          7,
          0,
          1,
          2,
          0,
          0,
          0,
          0,
          0,
          0,
          3,
          7,
          4,
          4,
          2,
          2,
          3,
          1,
          3,
          2,
          4,
          3,
          5,
          3,
          6,
          3,
          2,
          0,
          1,
          0,
          0,
          0,
          0,
          1,
          3,
          2,
          6,
          6,
          5,
          2,
          0,
          2,
          7,
          4,
          3,
          6,
          8,
          3,
          3,
          3,
          7,
          0,
          1,
          0,
          0,
          0,
          0,
          0,
          3,
          4,
          3,
          5,
          4,
          2,
          1,
          2,
          2,
          3,
          2,
          3,
          2,
          2,
          3,
          4,
          0,
          0,
          0,
          0,
          0,
          0,
          0,
          0,
          6,
          8,
          14,
          3,
          1,
          4,
          1,
          3,
          1,
          2,
          3,
          6,
          8,
          6,
          0,
          9,
          3,
          5,
          1,
          0,
          0,
          0,
          1,
          1,
          3,
          2,
          0,
          1,
          1,
          1,
          2,
          5,
          7,
          3,
          4,
          6,
          6,
          5,
          3,
          4,
          4,
          3,
          1,
          0,
          0,
          0,
          0,
          0,
          0,
          1,
          0,
          3,
          2,
          1,
          2,
          5,
          6,
          4,
          5,
          9,
          8,
          8,
          3,
          5,
          10,
          3,
          2,
          0,
          1,
          0,
          0,
          0,
          0,
          0,
          0,
          1,
          1,
          0,
          2,
          3,
          2,
          5,
          5,
          3,
          2,
          2,
          0,
          1,
          2,
          1,
          0,
          0,
          0,
          0,
          0,
          0,
          3,
          4,
          1,
          2,
          3,
          1,
          9,
          1,
          6,
          6,
          4,
          3,
          1,
          1,
          3,
          2,
          0,
          1,
          1,
          0,
          0,
          0,
          0,
          1,
          2,
          4,
          9,
          5,
          1,
          3,
          3,
          1,
          2,
          1,
          3,
          6,
          4,
          4,
          7,
          5,
          3,
          2,
          0,
          0,
          0,
          0,
          0,
          1,
          2,
          1,
          6,
          1,
          2,
          1,
          5,
          2,
          2,
          2,
          4,
          2,
          5,
          3,
          3,
          4,
          2,
          2,
          2,
          1,
          0,
          0,
          1,
          0,
          5,
          3,
          4,
          4,
          1,
          3,
          2,
          1,
          5,
          9,
          5,
          3,
          4,
          2,
          5,
          5,
          4,
          4,
          1,
          0,
          0,
          0,
          0,
          0,
          2,
          1,
          1,
          2,
          1,
          4,
          2,
          3,
          3,
          10,
          6,
          3,
          4,
          3,
          0,
          3,
          6,
          4,
          4,
          0,
          0,
          0,
          1,
          0,
          0,
          0,
          1,
          6,
          1,
          4,
          6,
          7,
          1,
          3,
          2,
          9,
          3,
          5,
          4,
          3,
          3,
          4,
          0,
          1,
          1,
          0,
          0,
          0,
          0,
          1,
          0,
          1,
          2,
          3,
          8,
          5,
          1,
          4,
          5,
          3,
          4,
          5,
          3,
          3,
          2,
          0,
          1,
          0,
          0,
          0,
          0,
          0,
          3,
          0,
          4,
          0,
          0,
          1,
          3,
          1,
          2,
          4,
          4,
          1,
          1,
          1,
          1,
          2,
          3,
          1,
          0
         ],
         "yaxis": "y"
        },
        {
         "line": {
          "color": "green"
         },
         "marker": {
          "size": 10
         },
         "mode": "markers",
         "name": "actual value",
         "type": "scatter",
         "x": [
          "2022-08-23T00:00:00"
         ],
         "y": [
          0
         ]
        },
        {
         "line": {
          "color": "red"
         },
         "marker": {
          "size": 15,
          "symbol": "x"
         },
         "mode": "markers",
         "name": "prediction",
         "type": "scatter",
         "x": [
          "2022-08-23T00:00:00"
         ],
         "y": [
          0.4042848869680691
         ]
        }
       ],
       "layout": {
        "legend": {
         "tracegroupgap": 0
        },
        "template": {
         "data": {
          "bar": [
           {
            "error_x": {
             "color": "#f2f5fa"
            },
            "error_y": {
             "color": "#f2f5fa"
            },
            "marker": {
             "line": {
              "color": "rgb(17,17,17)",
              "width": 0.5
             },
             "pattern": {
              "fillmode": "overlay",
              "size": 10,
              "solidity": 0.2
             }
            },
            "type": "bar"
           }
          ],
          "barpolar": [
           {
            "marker": {
             "line": {
              "color": "rgb(17,17,17)",
              "width": 0.5
             },
             "pattern": {
              "fillmode": "overlay",
              "size": 10,
              "solidity": 0.2
             }
            },
            "type": "barpolar"
           }
          ],
          "carpet": [
           {
            "aaxis": {
             "endlinecolor": "#A2B1C6",
             "gridcolor": "#506784",
             "linecolor": "#506784",
             "minorgridcolor": "#506784",
             "startlinecolor": "#A2B1C6"
            },
            "baxis": {
             "endlinecolor": "#A2B1C6",
             "gridcolor": "#506784",
             "linecolor": "#506784",
             "minorgridcolor": "#506784",
             "startlinecolor": "#A2B1C6"
            },
            "type": "carpet"
           }
          ],
          "choropleth": [
           {
            "colorbar": {
             "outlinewidth": 0,
             "ticks": ""
            },
            "type": "choropleth"
           }
          ],
          "contour": [
           {
            "colorbar": {
             "outlinewidth": 0,
             "ticks": ""
            },
            "colorscale": [
             [
              0,
              "#0d0887"
             ],
             [
              0.1111111111111111,
              "#46039f"
             ],
             [
              0.2222222222222222,
              "#7201a8"
             ],
             [
              0.3333333333333333,
              "#9c179e"
             ],
             [
              0.4444444444444444,
              "#bd3786"
             ],
             [
              0.5555555555555556,
              "#d8576b"
             ],
             [
              0.6666666666666666,
              "#ed7953"
             ],
             [
              0.7777777777777778,
              "#fb9f3a"
             ],
             [
              0.8888888888888888,
              "#fdca26"
             ],
             [
              1,
              "#f0f921"
             ]
            ],
            "type": "contour"
           }
          ],
          "contourcarpet": [
           {
            "colorbar": {
             "outlinewidth": 0,
             "ticks": ""
            },
            "type": "contourcarpet"
           }
          ],
          "heatmap": [
           {
            "colorbar": {
             "outlinewidth": 0,
             "ticks": ""
            },
            "colorscale": [
             [
              0,
              "#0d0887"
             ],
             [
              0.1111111111111111,
              "#46039f"
             ],
             [
              0.2222222222222222,
              "#7201a8"
             ],
             [
              0.3333333333333333,
              "#9c179e"
             ],
             [
              0.4444444444444444,
              "#bd3786"
             ],
             [
              0.5555555555555556,
              "#d8576b"
             ],
             [
              0.6666666666666666,
              "#ed7953"
             ],
             [
              0.7777777777777778,
              "#fb9f3a"
             ],
             [
              0.8888888888888888,
              "#fdca26"
             ],
             [
              1,
              "#f0f921"
             ]
            ],
            "type": "heatmap"
           }
          ],
          "heatmapgl": [
           {
            "colorbar": {
             "outlinewidth": 0,
             "ticks": ""
            },
            "colorscale": [
             [
              0,
              "#0d0887"
             ],
             [
              0.1111111111111111,
              "#46039f"
             ],
             [
              0.2222222222222222,
              "#7201a8"
             ],
             [
              0.3333333333333333,
              "#9c179e"
             ],
             [
              0.4444444444444444,
              "#bd3786"
             ],
             [
              0.5555555555555556,
              "#d8576b"
             ],
             [
              0.6666666666666666,
              "#ed7953"
             ],
             [
              0.7777777777777778,
              "#fb9f3a"
             ],
             [
              0.8888888888888888,
              "#fdca26"
             ],
             [
              1,
              "#f0f921"
             ]
            ],
            "type": "heatmapgl"
           }
          ],
          "histogram": [
           {
            "marker": {
             "pattern": {
              "fillmode": "overlay",
              "size": 10,
              "solidity": 0.2
             }
            },
            "type": "histogram"
           }
          ],
          "histogram2d": [
           {
            "colorbar": {
             "outlinewidth": 0,
             "ticks": ""
            },
            "colorscale": [
             [
              0,
              "#0d0887"
             ],
             [
              0.1111111111111111,
              "#46039f"
             ],
             [
              0.2222222222222222,
              "#7201a8"
             ],
             [
              0.3333333333333333,
              "#9c179e"
             ],
             [
              0.4444444444444444,
              "#bd3786"
             ],
             [
              0.5555555555555556,
              "#d8576b"
             ],
             [
              0.6666666666666666,
              "#ed7953"
             ],
             [
              0.7777777777777778,
              "#fb9f3a"
             ],
             [
              0.8888888888888888,
              "#fdca26"
             ],
             [
              1,
              "#f0f921"
             ]
            ],
            "type": "histogram2d"
           }
          ],
          "histogram2dcontour": [
           {
            "colorbar": {
             "outlinewidth": 0,
             "ticks": ""
            },
            "colorscale": [
             [
              0,
              "#0d0887"
             ],
             [
              0.1111111111111111,
              "#46039f"
             ],
             [
              0.2222222222222222,
              "#7201a8"
             ],
             [
              0.3333333333333333,
              "#9c179e"
             ],
             [
              0.4444444444444444,
              "#bd3786"
             ],
             [
              0.5555555555555556,
              "#d8576b"
             ],
             [
              0.6666666666666666,
              "#ed7953"
             ],
             [
              0.7777777777777778,
              "#fb9f3a"
             ],
             [
              0.8888888888888888,
              "#fdca26"
             ],
             [
              1,
              "#f0f921"
             ]
            ],
            "type": "histogram2dcontour"
           }
          ],
          "mesh3d": [
           {
            "colorbar": {
             "outlinewidth": 0,
             "ticks": ""
            },
            "type": "mesh3d"
           }
          ],
          "parcoords": [
           {
            "line": {
             "colorbar": {
              "outlinewidth": 0,
              "ticks": ""
             }
            },
            "type": "parcoords"
           }
          ],
          "pie": [
           {
            "automargin": true,
            "type": "pie"
           }
          ],
          "scatter": [
           {
            "marker": {
             "line": {
              "color": "#283442"
             }
            },
            "type": "scatter"
           }
          ],
          "scatter3d": [
           {
            "line": {
             "colorbar": {
              "outlinewidth": 0,
              "ticks": ""
             }
            },
            "marker": {
             "colorbar": {
              "outlinewidth": 0,
              "ticks": ""
             }
            },
            "type": "scatter3d"
           }
          ],
          "scattercarpet": [
           {
            "marker": {
             "colorbar": {
              "outlinewidth": 0,
              "ticks": ""
             }
            },
            "type": "scattercarpet"
           }
          ],
          "scattergeo": [
           {
            "marker": {
             "colorbar": {
              "outlinewidth": 0,
              "ticks": ""
             }
            },
            "type": "scattergeo"
           }
          ],
          "scattergl": [
           {
            "marker": {
             "line": {
              "color": "#283442"
             }
            },
            "type": "scattergl"
           }
          ],
          "scattermapbox": [
           {
            "marker": {
             "colorbar": {
              "outlinewidth": 0,
              "ticks": ""
             }
            },
            "type": "scattermapbox"
           }
          ],
          "scatterpolar": [
           {
            "marker": {
             "colorbar": {
              "outlinewidth": 0,
              "ticks": ""
             }
            },
            "type": "scatterpolar"
           }
          ],
          "scatterpolargl": [
           {
            "marker": {
             "colorbar": {
              "outlinewidth": 0,
              "ticks": ""
             }
            },
            "type": "scatterpolargl"
           }
          ],
          "scatterternary": [
           {
            "marker": {
             "colorbar": {
              "outlinewidth": 0,
              "ticks": ""
             }
            },
            "type": "scatterternary"
           }
          ],
          "surface": [
           {
            "colorbar": {
             "outlinewidth": 0,
             "ticks": ""
            },
            "colorscale": [
             [
              0,
              "#0d0887"
             ],
             [
              0.1111111111111111,
              "#46039f"
             ],
             [
              0.2222222222222222,
              "#7201a8"
             ],
             [
              0.3333333333333333,
              "#9c179e"
             ],
             [
              0.4444444444444444,
              "#bd3786"
             ],
             [
              0.5555555555555556,
              "#d8576b"
             ],
             [
              0.6666666666666666,
              "#ed7953"
             ],
             [
              0.7777777777777778,
              "#fb9f3a"
             ],
             [
              0.8888888888888888,
              "#fdca26"
             ],
             [
              1,
              "#f0f921"
             ]
            ],
            "type": "surface"
           }
          ],
          "table": [
           {
            "cells": {
             "fill": {
              "color": "#506784"
             },
             "line": {
              "color": "rgb(17,17,17)"
             }
            },
            "header": {
             "fill": {
              "color": "#2a3f5f"
             },
             "line": {
              "color": "rgb(17,17,17)"
             }
            },
            "type": "table"
           }
          ]
         },
         "layout": {
          "annotationdefaults": {
           "arrowcolor": "#f2f5fa",
           "arrowhead": 0,
           "arrowwidth": 1
          },
          "autotypenumbers": "strict",
          "coloraxis": {
           "colorbar": {
            "outlinewidth": 0,
            "ticks": ""
           }
          },
          "colorscale": {
           "diverging": [
            [
             0,
             "#8e0152"
            ],
            [
             0.1,
             "#c51b7d"
            ],
            [
             0.2,
             "#de77ae"
            ],
            [
             0.3,
             "#f1b6da"
            ],
            [
             0.4,
             "#fde0ef"
            ],
            [
             0.5,
             "#f7f7f7"
            ],
            [
             0.6,
             "#e6f5d0"
            ],
            [
             0.7,
             "#b8e186"
            ],
            [
             0.8,
             "#7fbc41"
            ],
            [
             0.9,
             "#4d9221"
            ],
            [
             1,
             "#276419"
            ]
           ],
           "sequential": [
            [
             0,
             "#0d0887"
            ],
            [
             0.1111111111111111,
             "#46039f"
            ],
            [
             0.2222222222222222,
             "#7201a8"
            ],
            [
             0.3333333333333333,
             "#9c179e"
            ],
            [
             0.4444444444444444,
             "#bd3786"
            ],
            [
             0.5555555555555556,
             "#d8576b"
            ],
            [
             0.6666666666666666,
             "#ed7953"
            ],
            [
             0.7777777777777778,
             "#fb9f3a"
            ],
            [
             0.8888888888888888,
             "#fdca26"
            ],
            [
             1,
             "#f0f921"
            ]
           ],
           "sequentialminus": [
            [
             0,
             "#0d0887"
            ],
            [
             0.1111111111111111,
             "#46039f"
            ],
            [
             0.2222222222222222,
             "#7201a8"
            ],
            [
             0.3333333333333333,
             "#9c179e"
            ],
            [
             0.4444444444444444,
             "#bd3786"
            ],
            [
             0.5555555555555556,
             "#d8576b"
            ],
            [
             0.6666666666666666,
             "#ed7953"
            ],
            [
             0.7777777777777778,
             "#fb9f3a"
            ],
            [
             0.8888888888888888,
             "#fdca26"
            ],
            [
             1,
             "#f0f921"
            ]
           ]
          },
          "colorway": [
           "#636efa",
           "#EF553B",
           "#00cc96",
           "#ab63fa",
           "#FFA15A",
           "#19d3f3",
           "#FF6692",
           "#B6E880",
           "#FF97FF",
           "#FECB52"
          ],
          "font": {
           "color": "#f2f5fa"
          },
          "geo": {
           "bgcolor": "rgb(17,17,17)",
           "lakecolor": "rgb(17,17,17)",
           "landcolor": "rgb(17,17,17)",
           "showlakes": true,
           "showland": true,
           "subunitcolor": "#506784"
          },
          "hoverlabel": {
           "align": "left"
          },
          "hovermode": "closest",
          "mapbox": {
           "style": "dark"
          },
          "paper_bgcolor": "rgb(17,17,17)",
          "plot_bgcolor": "rgb(17,17,17)",
          "polar": {
           "angularaxis": {
            "gridcolor": "#506784",
            "linecolor": "#506784",
            "ticks": ""
           },
           "bgcolor": "rgb(17,17,17)",
           "radialaxis": {
            "gridcolor": "#506784",
            "linecolor": "#506784",
            "ticks": ""
           }
          },
          "scene": {
           "xaxis": {
            "backgroundcolor": "rgb(17,17,17)",
            "gridcolor": "#506784",
            "gridwidth": 2,
            "linecolor": "#506784",
            "showbackground": true,
            "ticks": "",
            "zerolinecolor": "#C8D4E3"
           },
           "yaxis": {
            "backgroundcolor": "rgb(17,17,17)",
            "gridcolor": "#506784",
            "gridwidth": 2,
            "linecolor": "#506784",
            "showbackground": true,
            "ticks": "",
            "zerolinecolor": "#C8D4E3"
           },
           "zaxis": {
            "backgroundcolor": "rgb(17,17,17)",
            "gridcolor": "#506784",
            "gridwidth": 2,
            "linecolor": "#506784",
            "showbackground": true,
            "ticks": "",
            "zerolinecolor": "#C8D4E3"
           }
          },
          "shapedefaults": {
           "line": {
            "color": "#f2f5fa"
           }
          },
          "sliderdefaults": {
           "bgcolor": "#C8D4E3",
           "bordercolor": "rgb(17,17,17)",
           "borderwidth": 1,
           "tickwidth": 0
          },
          "ternary": {
           "aaxis": {
            "gridcolor": "#506784",
            "linecolor": "#506784",
            "ticks": ""
           },
           "baxis": {
            "gridcolor": "#506784",
            "linecolor": "#506784",
            "ticks": ""
           },
           "bgcolor": "rgb(17,17,17)",
           "caxis": {
            "gridcolor": "#506784",
            "linecolor": "#506784",
            "ticks": ""
           }
          },
          "title": {
           "x": 0.05
          },
          "updatemenudefaults": {
           "bgcolor": "#506784",
           "borderwidth": 0
          },
          "xaxis": {
           "automargin": true,
           "gridcolor": "#283442",
           "linecolor": "#506784",
           "ticks": "",
           "title": {
            "standoff": 15
           },
           "zerolinecolor": "#283442",
           "zerolinewidth": 2
          },
          "yaxis": {
           "automargin": true,
           "gridcolor": "#283442",
           "linecolor": "#506784",
           "ticks": "",
           "title": {
            "standoff": 15
           },
           "zerolinecolor": "#283442",
           "zerolinewidth": 2
          }
         }
        },
        "title": {
         "text": "Pick up hour=2022-08-23 00:00:00, location_id=33"
        },
        "xaxis": {
         "anchor": "y",
         "domain": [
          0,
          1
         ],
         "title": {
          "text": "x"
         }
        },
        "yaxis": {
         "anchor": "x",
         "domain": [
          0,
          1
         ],
         "title": {
          "text": "y"
         }
        }
       }
      }
     },
     "metadata": {},
     "output_type": "display_data"
    }
   ],
   "source": [
    "from taxi_demand_predictor.plot import plot_one_sample\n",
    "\n",
    "plot_one_sample(\n",
    "    features=X_test,\n",
    "    targets=y_test,\n",
    "    example_id=4979,\n",
    "    predictions=pd.Series(predictions)\n",
    ")"
   ]
  },
  {
   "cell_type": "code",
   "execution_count": 15,
   "metadata": {},
   "outputs": [
    {
     "data": {
      "application/vnd.plotly.v1+json": {
       "config": {
        "plotlyServerURL": "https://plot.ly"
       },
       "data": [
        {
         "hovertemplate": "x=%{x}<br>y=%{y}<extra></extra>",
         "legendgroup": "",
         "line": {
          "color": "#636efa",
          "dash": "solid"
         },
         "marker": {
          "symbol": "circle"
         },
         "mode": "markers+lines",
         "name": "",
         "orientation": "v",
         "showlegend": false,
         "type": "scatter",
         "x": [
          "2022-08-15T00:00:00",
          "2022-08-15T01:00:00",
          "2022-08-15T02:00:00",
          "2022-08-15T03:00:00",
          "2022-08-15T04:00:00",
          "2022-08-15T05:00:00",
          "2022-08-15T06:00:00",
          "2022-08-15T07:00:00",
          "2022-08-15T08:00:00",
          "2022-08-15T09:00:00",
          "2022-08-15T10:00:00",
          "2022-08-15T11:00:00",
          "2022-08-15T12:00:00",
          "2022-08-15T13:00:00",
          "2022-08-15T14:00:00",
          "2022-08-15T15:00:00",
          "2022-08-15T16:00:00",
          "2022-08-15T17:00:00",
          "2022-08-15T18:00:00",
          "2022-08-15T19:00:00",
          "2022-08-15T20:00:00",
          "2022-08-15T21:00:00",
          "2022-08-15T22:00:00",
          "2022-08-15T23:00:00",
          "2022-08-16T00:00:00",
          "2022-08-16T01:00:00",
          "2022-08-16T02:00:00",
          "2022-08-16T03:00:00",
          "2022-08-16T04:00:00",
          "2022-08-16T05:00:00",
          "2022-08-16T06:00:00",
          "2022-08-16T07:00:00",
          "2022-08-16T08:00:00",
          "2022-08-16T09:00:00",
          "2022-08-16T10:00:00",
          "2022-08-16T11:00:00",
          "2022-08-16T12:00:00",
          "2022-08-16T13:00:00",
          "2022-08-16T14:00:00",
          "2022-08-16T15:00:00",
          "2022-08-16T16:00:00",
          "2022-08-16T17:00:00",
          "2022-08-16T18:00:00",
          "2022-08-16T19:00:00",
          "2022-08-16T20:00:00",
          "2022-08-16T21:00:00",
          "2022-08-16T22:00:00",
          "2022-08-16T23:00:00",
          "2022-08-17T00:00:00",
          "2022-08-17T01:00:00",
          "2022-08-17T02:00:00",
          "2022-08-17T03:00:00",
          "2022-08-17T04:00:00",
          "2022-08-17T05:00:00",
          "2022-08-17T06:00:00",
          "2022-08-17T07:00:00",
          "2022-08-17T08:00:00",
          "2022-08-17T09:00:00",
          "2022-08-17T10:00:00",
          "2022-08-17T11:00:00",
          "2022-08-17T12:00:00",
          "2022-08-17T13:00:00",
          "2022-08-17T14:00:00",
          "2022-08-17T15:00:00",
          "2022-08-17T16:00:00",
          "2022-08-17T17:00:00",
          "2022-08-17T18:00:00",
          "2022-08-17T19:00:00",
          "2022-08-17T20:00:00",
          "2022-08-17T21:00:00",
          "2022-08-17T22:00:00",
          "2022-08-17T23:00:00",
          "2022-08-18T00:00:00",
          "2022-08-18T01:00:00",
          "2022-08-18T02:00:00",
          "2022-08-18T03:00:00",
          "2022-08-18T04:00:00",
          "2022-08-18T05:00:00",
          "2022-08-18T06:00:00",
          "2022-08-18T07:00:00",
          "2022-08-18T08:00:00",
          "2022-08-18T09:00:00",
          "2022-08-18T10:00:00",
          "2022-08-18T11:00:00",
          "2022-08-18T12:00:00",
          "2022-08-18T13:00:00",
          "2022-08-18T14:00:00",
          "2022-08-18T15:00:00",
          "2022-08-18T16:00:00",
          "2022-08-18T17:00:00",
          "2022-08-18T18:00:00",
          "2022-08-18T19:00:00",
          "2022-08-18T20:00:00",
          "2022-08-18T21:00:00",
          "2022-08-18T22:00:00",
          "2022-08-18T23:00:00",
          "2022-08-19T00:00:00",
          "2022-08-19T01:00:00",
          "2022-08-19T02:00:00",
          "2022-08-19T03:00:00",
          "2022-08-19T04:00:00",
          "2022-08-19T05:00:00",
          "2022-08-19T06:00:00",
          "2022-08-19T07:00:00",
          "2022-08-19T08:00:00",
          "2022-08-19T09:00:00",
          "2022-08-19T10:00:00",
          "2022-08-19T11:00:00",
          "2022-08-19T12:00:00",
          "2022-08-19T13:00:00",
          "2022-08-19T14:00:00",
          "2022-08-19T15:00:00",
          "2022-08-19T16:00:00",
          "2022-08-19T17:00:00",
          "2022-08-19T18:00:00",
          "2022-08-19T19:00:00",
          "2022-08-19T20:00:00",
          "2022-08-19T21:00:00",
          "2022-08-19T22:00:00",
          "2022-08-19T23:00:00",
          "2022-08-20T00:00:00",
          "2022-08-20T01:00:00",
          "2022-08-20T02:00:00",
          "2022-08-20T03:00:00",
          "2022-08-20T04:00:00",
          "2022-08-20T05:00:00",
          "2022-08-20T06:00:00",
          "2022-08-20T07:00:00",
          "2022-08-20T08:00:00",
          "2022-08-20T09:00:00",
          "2022-08-20T10:00:00",
          "2022-08-20T11:00:00",
          "2022-08-20T12:00:00",
          "2022-08-20T13:00:00",
          "2022-08-20T14:00:00",
          "2022-08-20T15:00:00",
          "2022-08-20T16:00:00",
          "2022-08-20T17:00:00",
          "2022-08-20T18:00:00",
          "2022-08-20T19:00:00",
          "2022-08-20T20:00:00",
          "2022-08-20T21:00:00",
          "2022-08-20T22:00:00",
          "2022-08-20T23:00:00",
          "2022-08-21T00:00:00",
          "2022-08-21T01:00:00",
          "2022-08-21T02:00:00",
          "2022-08-21T03:00:00",
          "2022-08-21T04:00:00",
          "2022-08-21T05:00:00",
          "2022-08-21T06:00:00",
          "2022-08-21T07:00:00",
          "2022-08-21T08:00:00",
          "2022-08-21T09:00:00",
          "2022-08-21T10:00:00",
          "2022-08-21T11:00:00",
          "2022-08-21T12:00:00",
          "2022-08-21T13:00:00",
          "2022-08-21T14:00:00",
          "2022-08-21T15:00:00",
          "2022-08-21T16:00:00",
          "2022-08-21T17:00:00",
          "2022-08-21T18:00:00",
          "2022-08-21T19:00:00",
          "2022-08-21T20:00:00",
          "2022-08-21T21:00:00",
          "2022-08-21T22:00:00",
          "2022-08-21T23:00:00",
          "2022-08-22T00:00:00",
          "2022-08-22T01:00:00",
          "2022-08-22T02:00:00",
          "2022-08-22T03:00:00",
          "2022-08-22T04:00:00",
          "2022-08-22T05:00:00",
          "2022-08-22T06:00:00",
          "2022-08-22T07:00:00",
          "2022-08-22T08:00:00",
          "2022-08-22T09:00:00",
          "2022-08-22T10:00:00",
          "2022-08-22T11:00:00",
          "2022-08-22T12:00:00",
          "2022-08-22T13:00:00",
          "2022-08-22T14:00:00",
          "2022-08-22T15:00:00",
          "2022-08-22T16:00:00",
          "2022-08-22T17:00:00",
          "2022-08-22T18:00:00",
          "2022-08-22T19:00:00",
          "2022-08-22T20:00:00",
          "2022-08-22T21:00:00",
          "2022-08-22T22:00:00",
          "2022-08-22T23:00:00",
          "2022-08-23T00:00:00",
          "2022-08-23T01:00:00",
          "2022-08-23T02:00:00",
          "2022-08-23T03:00:00",
          "2022-08-23T04:00:00",
          "2022-08-23T05:00:00",
          "2022-08-23T06:00:00",
          "2022-08-23T07:00:00",
          "2022-08-23T08:00:00",
          "2022-08-23T09:00:00",
          "2022-08-23T10:00:00",
          "2022-08-23T11:00:00",
          "2022-08-23T12:00:00",
          "2022-08-23T13:00:00",
          "2022-08-23T14:00:00",
          "2022-08-23T15:00:00",
          "2022-08-23T16:00:00",
          "2022-08-23T17:00:00",
          "2022-08-23T18:00:00",
          "2022-08-23T19:00:00",
          "2022-08-23T20:00:00",
          "2022-08-23T21:00:00",
          "2022-08-23T22:00:00",
          "2022-08-23T23:00:00",
          "2022-08-24T00:00:00",
          "2022-08-24T01:00:00",
          "2022-08-24T02:00:00",
          "2022-08-24T03:00:00",
          "2022-08-24T04:00:00",
          "2022-08-24T05:00:00",
          "2022-08-24T06:00:00",
          "2022-08-24T07:00:00",
          "2022-08-24T08:00:00",
          "2022-08-24T09:00:00",
          "2022-08-24T10:00:00",
          "2022-08-24T11:00:00",
          "2022-08-24T12:00:00",
          "2022-08-24T13:00:00",
          "2022-08-24T14:00:00",
          "2022-08-24T15:00:00",
          "2022-08-24T16:00:00",
          "2022-08-24T17:00:00",
          "2022-08-24T18:00:00",
          "2022-08-24T19:00:00",
          "2022-08-24T20:00:00",
          "2022-08-24T21:00:00",
          "2022-08-24T22:00:00",
          "2022-08-24T23:00:00",
          "2022-08-25T00:00:00",
          "2022-08-25T01:00:00",
          "2022-08-25T02:00:00",
          "2022-08-25T03:00:00",
          "2022-08-25T04:00:00",
          "2022-08-25T05:00:00",
          "2022-08-25T06:00:00",
          "2022-08-25T07:00:00",
          "2022-08-25T08:00:00",
          "2022-08-25T09:00:00",
          "2022-08-25T10:00:00",
          "2022-08-25T11:00:00",
          "2022-08-25T12:00:00",
          "2022-08-25T13:00:00",
          "2022-08-25T14:00:00",
          "2022-08-25T15:00:00",
          "2022-08-25T16:00:00",
          "2022-08-25T17:00:00",
          "2022-08-25T18:00:00",
          "2022-08-25T19:00:00",
          "2022-08-25T20:00:00",
          "2022-08-25T21:00:00",
          "2022-08-25T22:00:00",
          "2022-08-25T23:00:00",
          "2022-08-26T00:00:00",
          "2022-08-26T01:00:00",
          "2022-08-26T02:00:00",
          "2022-08-26T03:00:00",
          "2022-08-26T04:00:00",
          "2022-08-26T05:00:00",
          "2022-08-26T06:00:00",
          "2022-08-26T07:00:00",
          "2022-08-26T08:00:00",
          "2022-08-26T09:00:00",
          "2022-08-26T10:00:00",
          "2022-08-26T11:00:00",
          "2022-08-26T12:00:00",
          "2022-08-26T13:00:00",
          "2022-08-26T14:00:00",
          "2022-08-26T15:00:00",
          "2022-08-26T16:00:00",
          "2022-08-26T17:00:00",
          "2022-08-26T18:00:00",
          "2022-08-26T19:00:00",
          "2022-08-26T20:00:00",
          "2022-08-26T21:00:00",
          "2022-08-26T22:00:00",
          "2022-08-26T23:00:00",
          "2022-08-27T00:00:00",
          "2022-08-27T01:00:00",
          "2022-08-27T02:00:00",
          "2022-08-27T03:00:00",
          "2022-08-27T04:00:00",
          "2022-08-27T05:00:00",
          "2022-08-27T06:00:00",
          "2022-08-27T07:00:00",
          "2022-08-27T08:00:00",
          "2022-08-27T09:00:00",
          "2022-08-27T10:00:00",
          "2022-08-27T11:00:00",
          "2022-08-27T12:00:00",
          "2022-08-27T13:00:00",
          "2022-08-27T14:00:00",
          "2022-08-27T15:00:00",
          "2022-08-27T16:00:00",
          "2022-08-27T17:00:00",
          "2022-08-27T18:00:00",
          "2022-08-27T19:00:00",
          "2022-08-27T20:00:00",
          "2022-08-27T21:00:00",
          "2022-08-27T22:00:00",
          "2022-08-27T23:00:00",
          "2022-08-28T00:00:00",
          "2022-08-28T01:00:00",
          "2022-08-28T02:00:00",
          "2022-08-28T03:00:00",
          "2022-08-28T04:00:00",
          "2022-08-28T05:00:00",
          "2022-08-28T06:00:00",
          "2022-08-28T07:00:00",
          "2022-08-28T08:00:00",
          "2022-08-28T09:00:00",
          "2022-08-28T10:00:00",
          "2022-08-28T11:00:00",
          "2022-08-28T12:00:00",
          "2022-08-28T13:00:00",
          "2022-08-28T14:00:00",
          "2022-08-28T15:00:00",
          "2022-08-28T16:00:00",
          "2022-08-28T17:00:00",
          "2022-08-28T18:00:00",
          "2022-08-28T19:00:00",
          "2022-08-28T20:00:00",
          "2022-08-28T21:00:00",
          "2022-08-28T22:00:00",
          "2022-08-28T23:00:00",
          "2022-08-29T00:00:00",
          "2022-08-29T01:00:00",
          "2022-08-29T02:00:00",
          "2022-08-29T03:00:00",
          "2022-08-29T04:00:00",
          "2022-08-29T05:00:00",
          "2022-08-29T06:00:00",
          "2022-08-29T07:00:00",
          "2022-08-29T08:00:00",
          "2022-08-29T09:00:00",
          "2022-08-29T10:00:00",
          "2022-08-29T11:00:00",
          "2022-08-29T12:00:00",
          "2022-08-29T13:00:00",
          "2022-08-29T14:00:00",
          "2022-08-29T15:00:00",
          "2022-08-29T16:00:00",
          "2022-08-29T17:00:00",
          "2022-08-29T18:00:00",
          "2022-08-29T19:00:00",
          "2022-08-29T20:00:00",
          "2022-08-29T21:00:00",
          "2022-08-29T22:00:00",
          "2022-08-29T23:00:00",
          "2022-08-30T00:00:00",
          "2022-08-30T01:00:00",
          "2022-08-30T02:00:00",
          "2022-08-30T03:00:00",
          "2022-08-30T04:00:00",
          "2022-08-30T05:00:00",
          "2022-08-30T06:00:00",
          "2022-08-30T07:00:00",
          "2022-08-30T08:00:00",
          "2022-08-30T09:00:00",
          "2022-08-30T10:00:00",
          "2022-08-30T11:00:00",
          "2022-08-30T12:00:00",
          "2022-08-30T13:00:00",
          "2022-08-30T14:00:00",
          "2022-08-30T15:00:00",
          "2022-08-30T16:00:00",
          "2022-08-30T17:00:00",
          "2022-08-30T18:00:00",
          "2022-08-30T19:00:00",
          "2022-08-30T20:00:00",
          "2022-08-30T21:00:00",
          "2022-08-30T22:00:00",
          "2022-08-30T23:00:00",
          "2022-08-31T00:00:00",
          "2022-08-31T01:00:00",
          "2022-08-31T02:00:00",
          "2022-08-31T03:00:00",
          "2022-08-31T04:00:00",
          "2022-08-31T05:00:00",
          "2022-08-31T06:00:00",
          "2022-08-31T07:00:00",
          "2022-08-31T08:00:00",
          "2022-08-31T09:00:00",
          "2022-08-31T10:00:00",
          "2022-08-31T11:00:00",
          "2022-08-31T12:00:00",
          "2022-08-31T13:00:00",
          "2022-08-31T14:00:00",
          "2022-08-31T15:00:00",
          "2022-08-31T16:00:00",
          "2022-08-31T17:00:00",
          "2022-08-31T18:00:00",
          "2022-08-31T19:00:00",
          "2022-08-31T20:00:00",
          "2022-08-31T21:00:00",
          "2022-08-31T22:00:00",
          "2022-08-31T23:00:00",
          "2022-09-01T00:00:00",
          "2022-09-01T01:00:00",
          "2022-09-01T02:00:00",
          "2022-09-01T03:00:00",
          "2022-09-01T04:00:00",
          "2022-09-01T05:00:00",
          "2022-09-01T06:00:00",
          "2022-09-01T07:00:00",
          "2022-09-01T08:00:00",
          "2022-09-01T09:00:00",
          "2022-09-01T10:00:00",
          "2022-09-01T11:00:00",
          "2022-09-01T12:00:00",
          "2022-09-01T13:00:00",
          "2022-09-01T14:00:00",
          "2022-09-01T15:00:00",
          "2022-09-01T16:00:00",
          "2022-09-01T17:00:00",
          "2022-09-01T18:00:00",
          "2022-09-01T19:00:00",
          "2022-09-01T20:00:00",
          "2022-09-01T21:00:00",
          "2022-09-01T22:00:00",
          "2022-09-01T23:00:00",
          "2022-09-02T00:00:00",
          "2022-09-02T01:00:00",
          "2022-09-02T02:00:00",
          "2022-09-02T03:00:00",
          "2022-09-02T04:00:00",
          "2022-09-02T05:00:00",
          "2022-09-02T06:00:00",
          "2022-09-02T07:00:00",
          "2022-09-02T08:00:00",
          "2022-09-02T09:00:00",
          "2022-09-02T10:00:00",
          "2022-09-02T11:00:00",
          "2022-09-02T12:00:00",
          "2022-09-02T13:00:00",
          "2022-09-02T14:00:00",
          "2022-09-02T15:00:00",
          "2022-09-02T16:00:00",
          "2022-09-02T17:00:00",
          "2022-09-02T18:00:00",
          "2022-09-02T19:00:00",
          "2022-09-02T20:00:00",
          "2022-09-02T21:00:00",
          "2022-09-02T22:00:00",
          "2022-09-02T23:00:00",
          "2022-09-03T00:00:00",
          "2022-09-03T01:00:00",
          "2022-09-03T02:00:00",
          "2022-09-03T03:00:00",
          "2022-09-03T04:00:00",
          "2022-09-03T05:00:00",
          "2022-09-03T06:00:00",
          "2022-09-03T07:00:00",
          "2022-09-03T08:00:00",
          "2022-09-03T09:00:00",
          "2022-09-03T10:00:00",
          "2022-09-03T11:00:00",
          "2022-09-03T12:00:00",
          "2022-09-03T13:00:00",
          "2022-09-03T14:00:00",
          "2022-09-03T15:00:00",
          "2022-09-03T16:00:00",
          "2022-09-03T17:00:00",
          "2022-09-03T18:00:00",
          "2022-09-03T19:00:00",
          "2022-09-03T20:00:00",
          "2022-09-03T21:00:00",
          "2022-09-03T22:00:00",
          "2022-09-03T23:00:00",
          "2022-09-04T00:00:00",
          "2022-09-04T01:00:00",
          "2022-09-04T02:00:00",
          "2022-09-04T03:00:00",
          "2022-09-04T04:00:00",
          "2022-09-04T05:00:00",
          "2022-09-04T06:00:00",
          "2022-09-04T07:00:00",
          "2022-09-04T08:00:00",
          "2022-09-04T09:00:00",
          "2022-09-04T10:00:00",
          "2022-09-04T11:00:00",
          "2022-09-04T12:00:00",
          "2022-09-04T13:00:00",
          "2022-09-04T14:00:00",
          "2022-09-04T15:00:00",
          "2022-09-04T16:00:00",
          "2022-09-04T17:00:00",
          "2022-09-04T18:00:00",
          "2022-09-04T19:00:00",
          "2022-09-04T20:00:00",
          "2022-09-04T21:00:00",
          "2022-09-04T22:00:00",
          "2022-09-04T23:00:00",
          "2022-09-05T00:00:00",
          "2022-09-05T01:00:00",
          "2022-09-05T02:00:00",
          "2022-09-05T03:00:00",
          "2022-09-05T04:00:00",
          "2022-09-05T05:00:00",
          "2022-09-05T06:00:00",
          "2022-09-05T07:00:00",
          "2022-09-05T08:00:00",
          "2022-09-05T09:00:00",
          "2022-09-05T10:00:00",
          "2022-09-05T11:00:00",
          "2022-09-05T12:00:00",
          "2022-09-05T13:00:00",
          "2022-09-05T14:00:00",
          "2022-09-05T15:00:00",
          "2022-09-05T16:00:00",
          "2022-09-05T17:00:00",
          "2022-09-05T18:00:00",
          "2022-09-05T19:00:00",
          "2022-09-05T20:00:00",
          "2022-09-05T21:00:00",
          "2022-09-05T22:00:00",
          "2022-09-05T23:00:00",
          "2022-09-06T00:00:00",
          "2022-09-06T01:00:00",
          "2022-09-06T02:00:00",
          "2022-09-06T03:00:00",
          "2022-09-06T04:00:00",
          "2022-09-06T05:00:00",
          "2022-09-06T06:00:00",
          "2022-09-06T07:00:00",
          "2022-09-06T08:00:00",
          "2022-09-06T09:00:00",
          "2022-09-06T10:00:00",
          "2022-09-06T11:00:00",
          "2022-09-06T12:00:00",
          "2022-09-06T13:00:00",
          "2022-09-06T14:00:00",
          "2022-09-06T15:00:00",
          "2022-09-06T16:00:00",
          "2022-09-06T17:00:00",
          "2022-09-06T18:00:00",
          "2022-09-06T19:00:00",
          "2022-09-06T20:00:00",
          "2022-09-06T21:00:00",
          "2022-09-06T22:00:00",
          "2022-09-06T23:00:00",
          "2022-09-07T00:00:00",
          "2022-09-07T01:00:00",
          "2022-09-07T02:00:00",
          "2022-09-07T03:00:00",
          "2022-09-07T04:00:00",
          "2022-09-07T05:00:00",
          "2022-09-07T06:00:00",
          "2022-09-07T07:00:00",
          "2022-09-07T08:00:00",
          "2022-09-07T09:00:00",
          "2022-09-07T10:00:00",
          "2022-09-07T11:00:00",
          "2022-09-07T12:00:00",
          "2022-09-07T13:00:00",
          "2022-09-07T14:00:00",
          "2022-09-07T15:00:00",
          "2022-09-07T16:00:00",
          "2022-09-07T17:00:00",
          "2022-09-07T18:00:00",
          "2022-09-07T19:00:00",
          "2022-09-07T20:00:00",
          "2022-09-07T21:00:00",
          "2022-09-07T22:00:00",
          "2022-09-07T23:00:00",
          "2022-09-08T00:00:00",
          "2022-09-08T01:00:00",
          "2022-09-08T02:00:00",
          "2022-09-08T03:00:00",
          "2022-09-08T04:00:00",
          "2022-09-08T05:00:00",
          "2022-09-08T06:00:00",
          "2022-09-08T07:00:00",
          "2022-09-08T08:00:00",
          "2022-09-08T09:00:00",
          "2022-09-08T10:00:00",
          "2022-09-08T11:00:00",
          "2022-09-08T12:00:00",
          "2022-09-08T13:00:00",
          "2022-09-08T14:00:00",
          "2022-09-08T15:00:00",
          "2022-09-08T16:00:00",
          "2022-09-08T17:00:00",
          "2022-09-08T18:00:00",
          "2022-09-08T19:00:00",
          "2022-09-08T20:00:00",
          "2022-09-08T21:00:00",
          "2022-09-08T22:00:00",
          "2022-09-08T23:00:00",
          "2022-09-09T00:00:00",
          "2022-09-09T01:00:00",
          "2022-09-09T02:00:00",
          "2022-09-09T03:00:00",
          "2022-09-09T04:00:00",
          "2022-09-09T05:00:00",
          "2022-09-09T06:00:00",
          "2022-09-09T07:00:00",
          "2022-09-09T08:00:00",
          "2022-09-09T09:00:00",
          "2022-09-09T10:00:00",
          "2022-09-09T11:00:00",
          "2022-09-09T12:00:00",
          "2022-09-09T13:00:00",
          "2022-09-09T14:00:00",
          "2022-09-09T15:00:00",
          "2022-09-09T16:00:00",
          "2022-09-09T17:00:00",
          "2022-09-09T18:00:00",
          "2022-09-09T19:00:00",
          "2022-09-09T20:00:00",
          "2022-09-09T21:00:00",
          "2022-09-09T22:00:00",
          "2022-09-09T23:00:00",
          "2022-09-10T00:00:00",
          "2022-09-10T01:00:00",
          "2022-09-10T02:00:00",
          "2022-09-10T03:00:00",
          "2022-09-10T04:00:00",
          "2022-09-10T05:00:00",
          "2022-09-10T06:00:00",
          "2022-09-10T07:00:00",
          "2022-09-10T08:00:00",
          "2022-09-10T09:00:00",
          "2022-09-10T10:00:00",
          "2022-09-10T11:00:00",
          "2022-09-10T12:00:00",
          "2022-09-10T13:00:00",
          "2022-09-10T14:00:00",
          "2022-09-10T15:00:00",
          "2022-09-10T16:00:00",
          "2022-09-10T17:00:00",
          "2022-09-10T18:00:00",
          "2022-09-10T19:00:00",
          "2022-09-10T20:00:00",
          "2022-09-10T21:00:00",
          "2022-09-10T22:00:00",
          "2022-09-10T23:00:00",
          "2022-09-11T00:00:00",
          "2022-09-11T01:00:00",
          "2022-09-11T02:00:00",
          "2022-09-11T03:00:00",
          "2022-09-11T04:00:00",
          "2022-09-11T05:00:00",
          "2022-09-11T06:00:00",
          "2022-09-11T07:00:00",
          "2022-09-11T08:00:00",
          "2022-09-11T09:00:00",
          "2022-09-11T10:00:00",
          "2022-09-11T11:00:00",
          "2022-09-11T12:00:00",
          "2022-09-11T13:00:00",
          "2022-09-11T14:00:00",
          "2022-09-11T15:00:00",
          "2022-09-11T16:00:00",
          "2022-09-11T17:00:00",
          "2022-09-11T18:00:00",
          "2022-09-11T19:00:00",
          "2022-09-11T20:00:00",
          "2022-09-11T21:00:00",
          "2022-09-11T22:00:00",
          "2022-09-11T23:00:00",
          "2022-09-12T00:00:00"
         ],
         "xaxis": "x",
         "y": [
          0,
          0,
          0,
          0,
          0,
          0,
          3,
          4,
          1,
          2,
          3,
          1,
          9,
          1,
          6,
          6,
          4,
          3,
          1,
          1,
          3,
          2,
          0,
          1,
          1,
          0,
          0,
          0,
          0,
          1,
          2,
          4,
          9,
          5,
          1,
          3,
          3,
          1,
          2,
          1,
          3,
          6,
          4,
          4,
          7,
          5,
          3,
          2,
          0,
          0,
          0,
          0,
          0,
          1,
          2,
          1,
          6,
          1,
          2,
          1,
          5,
          2,
          2,
          2,
          4,
          2,
          5,
          3,
          3,
          4,
          2,
          2,
          2,
          1,
          0,
          0,
          1,
          0,
          5,
          3,
          4,
          4,
          1,
          3,
          2,
          1,
          5,
          9,
          5,
          3,
          4,
          2,
          5,
          5,
          4,
          4,
          1,
          0,
          0,
          0,
          0,
          0,
          2,
          1,
          1,
          2,
          1,
          4,
          2,
          3,
          3,
          10,
          6,
          3,
          4,
          3,
          0,
          3,
          6,
          4,
          4,
          0,
          0,
          0,
          1,
          0,
          0,
          0,
          1,
          6,
          1,
          4,
          6,
          7,
          1,
          3,
          2,
          9,
          3,
          5,
          4,
          3,
          3,
          4,
          0,
          1,
          1,
          0,
          0,
          0,
          0,
          1,
          0,
          1,
          2,
          3,
          8,
          5,
          1,
          4,
          5,
          3,
          4,
          5,
          3,
          3,
          2,
          0,
          1,
          0,
          0,
          0,
          0,
          0,
          3,
          0,
          4,
          0,
          0,
          1,
          3,
          1,
          2,
          4,
          4,
          1,
          1,
          1,
          1,
          2,
          3,
          1,
          0,
          0,
          0,
          0,
          0,
          0,
          3,
          2,
          8,
          5,
          4,
          3,
          2,
          0,
          1,
          6,
          1,
          2,
          6,
          0,
          3,
          1,
          10,
          3,
          1,
          0,
          0,
          0,
          0,
          1,
          3,
          1,
          4,
          6,
          1,
          1,
          1,
          3,
          1,
          4,
          5,
          0,
          8,
          3,
          4,
          3,
          1,
          1,
          0,
          1,
          0,
          0,
          0,
          0,
          1,
          2,
          5,
          3,
          4,
          5,
          3,
          2,
          2,
          6,
          2,
          2,
          0,
          2,
          7,
          4,
          3,
          2,
          2,
          1,
          0,
          0,
          0,
          1,
          0,
          1,
          3,
          3,
          2,
          5,
          5,
          3,
          4,
          4,
          5,
          6,
          2,
          3,
          0,
          4,
          4,
          2,
          2,
          1,
          0,
          0,
          0,
          0,
          1,
          3,
          1,
          0,
          2,
          3,
          2,
          4,
          1,
          6,
          4,
          3,
          11,
          5,
          4,
          2,
          4,
          6,
          1,
          2,
          0,
          0,
          1,
          0,
          0,
          1,
          0,
          3,
          2,
          3,
          4,
          5,
          1,
          3,
          6,
          4,
          4,
          2,
          4,
          1,
          1,
          0,
          1,
          0,
          0,
          0,
          0,
          0,
          2,
          1,
          5,
          0,
          2,
          2,
          2,
          4,
          1,
          5,
          5,
          4,
          2,
          8,
          6,
          2,
          1,
          1,
          1,
          0,
          0,
          0,
          1,
          0,
          2,
          6,
          7,
          3,
          1,
          3,
          2,
          2,
          4,
          3,
          3,
          1,
          9,
          0,
          1,
          3,
          5,
          0,
          1,
          0,
          0,
          0,
          0,
          0,
          3,
          3,
          4,
          2,
          1,
          2,
          6,
          5,
          0,
          0,
          2,
          7,
          6,
          2,
          5,
          4,
          5,
          0,
          3,
          1,
          0,
          1,
          0,
          0,
          3,
          6,
          6,
          1,
          2,
          5,
          1,
          2,
          3,
          5,
          4,
          3,
          4,
          1,
          3,
          1,
          3,
          3,
          1,
          0,
          0,
          0,
          0,
          1,
          1,
          2,
          3,
          1,
          5,
          2,
          1,
          6,
          2,
          4,
          5,
          4,
          5,
          4,
          3,
          1,
          2,
          2,
          0,
          0,
          0,
          0,
          0,
          1,
          1,
          4,
          0,
          0,
          0,
          4,
          4,
          3,
          4,
          7,
          1,
          11,
          3,
          7,
          6,
          7,
          2,
          2,
          1,
          0,
          0,
          0,
          0,
          0,
          0,
          0,
          0,
          1,
          2,
          1,
          6,
          2,
          3,
          4,
          7,
          6,
          4,
          4,
          5,
          2,
          0,
          5,
          4,
          1,
          0,
          0,
          0,
          0,
          1,
          0,
          2,
          1,
          1,
          2,
          4,
          2,
          6,
          7,
          3,
          3,
          6,
          3,
          0,
          2,
          0,
          0,
          1,
          0,
          0,
          0,
          0,
          0,
          4,
          8,
          14,
          10,
          2,
          7,
          7,
          1,
          2,
          3,
          6,
          3,
          4,
          0,
          2,
          1,
          1,
          2,
          0,
          0,
          0,
          0,
          0,
          0,
          1,
          7,
          13,
          9,
          7,
          4,
          3,
          0,
          3,
          4,
          4,
          4,
          1,
          6,
          1,
          4,
          4,
          5,
          0,
          0,
          0,
          0,
          0,
          1,
          8,
          12,
          16,
          5,
          3,
          2,
          10,
          3,
          8,
          10,
          5,
          5,
          4,
          1,
          8,
          2,
          7,
          4,
          1,
          1,
          0,
          0,
          0,
          1,
          5,
          6,
          12,
          7,
          4,
          6,
          5,
          6,
          3,
          3,
          5,
          5,
          3,
          13,
          4,
          2,
          6,
          5,
          1,
          3,
          2,
          0,
          0,
          0,
          0,
          0,
          1,
          2,
          2,
          3,
          5,
          6,
          7,
          8,
          11,
          6,
          4,
          8,
          6,
          4,
          9,
          11,
          5,
          3,
          1,
          0,
          0,
          1,
          0,
          3,
          1,
          1,
          2,
          3,
          4,
          6,
          2,
          3,
          0,
          6,
          2,
          4,
          4,
          5,
          3,
          1,
          0
         ],
         "yaxis": "y"
        },
        {
         "line": {
          "color": "green"
         },
         "marker": {
          "size": 10
         },
         "mode": "markers",
         "name": "actual value",
         "type": "scatter",
         "x": [
          "2022-09-12T00:00:00"
         ],
         "y": [
          0
         ]
        },
        {
         "line": {
          "color": "red"
         },
         "marker": {
          "size": 15,
          "symbol": "x"
         },
         "mode": "markers",
         "name": "prediction",
         "type": "scatter",
         "x": [
          "2022-09-12T00:00:00"
         ],
         "y": [
          1.4893869618803914
         ]
        }
       ],
       "layout": {
        "legend": {
         "tracegroupgap": 0
        },
        "template": {
         "data": {
          "bar": [
           {
            "error_x": {
             "color": "#f2f5fa"
            },
            "error_y": {
             "color": "#f2f5fa"
            },
            "marker": {
             "line": {
              "color": "rgb(17,17,17)",
              "width": 0.5
             },
             "pattern": {
              "fillmode": "overlay",
              "size": 10,
              "solidity": 0.2
             }
            },
            "type": "bar"
           }
          ],
          "barpolar": [
           {
            "marker": {
             "line": {
              "color": "rgb(17,17,17)",
              "width": 0.5
             },
             "pattern": {
              "fillmode": "overlay",
              "size": 10,
              "solidity": 0.2
             }
            },
            "type": "barpolar"
           }
          ],
          "carpet": [
           {
            "aaxis": {
             "endlinecolor": "#A2B1C6",
             "gridcolor": "#506784",
             "linecolor": "#506784",
             "minorgridcolor": "#506784",
             "startlinecolor": "#A2B1C6"
            },
            "baxis": {
             "endlinecolor": "#A2B1C6",
             "gridcolor": "#506784",
             "linecolor": "#506784",
             "minorgridcolor": "#506784",
             "startlinecolor": "#A2B1C6"
            },
            "type": "carpet"
           }
          ],
          "choropleth": [
           {
            "colorbar": {
             "outlinewidth": 0,
             "ticks": ""
            },
            "type": "choropleth"
           }
          ],
          "contour": [
           {
            "colorbar": {
             "outlinewidth": 0,
             "ticks": ""
            },
            "colorscale": [
             [
              0,
              "#0d0887"
             ],
             [
              0.1111111111111111,
              "#46039f"
             ],
             [
              0.2222222222222222,
              "#7201a8"
             ],
             [
              0.3333333333333333,
              "#9c179e"
             ],
             [
              0.4444444444444444,
              "#bd3786"
             ],
             [
              0.5555555555555556,
              "#d8576b"
             ],
             [
              0.6666666666666666,
              "#ed7953"
             ],
             [
              0.7777777777777778,
              "#fb9f3a"
             ],
             [
              0.8888888888888888,
              "#fdca26"
             ],
             [
              1,
              "#f0f921"
             ]
            ],
            "type": "contour"
           }
          ],
          "contourcarpet": [
           {
            "colorbar": {
             "outlinewidth": 0,
             "ticks": ""
            },
            "type": "contourcarpet"
           }
          ],
          "heatmap": [
           {
            "colorbar": {
             "outlinewidth": 0,
             "ticks": ""
            },
            "colorscale": [
             [
              0,
              "#0d0887"
             ],
             [
              0.1111111111111111,
              "#46039f"
             ],
             [
              0.2222222222222222,
              "#7201a8"
             ],
             [
              0.3333333333333333,
              "#9c179e"
             ],
             [
              0.4444444444444444,
              "#bd3786"
             ],
             [
              0.5555555555555556,
              "#d8576b"
             ],
             [
              0.6666666666666666,
              "#ed7953"
             ],
             [
              0.7777777777777778,
              "#fb9f3a"
             ],
             [
              0.8888888888888888,
              "#fdca26"
             ],
             [
              1,
              "#f0f921"
             ]
            ],
            "type": "heatmap"
           }
          ],
          "heatmapgl": [
           {
            "colorbar": {
             "outlinewidth": 0,
             "ticks": ""
            },
            "colorscale": [
             [
              0,
              "#0d0887"
             ],
             [
              0.1111111111111111,
              "#46039f"
             ],
             [
              0.2222222222222222,
              "#7201a8"
             ],
             [
              0.3333333333333333,
              "#9c179e"
             ],
             [
              0.4444444444444444,
              "#bd3786"
             ],
             [
              0.5555555555555556,
              "#d8576b"
             ],
             [
              0.6666666666666666,
              "#ed7953"
             ],
             [
              0.7777777777777778,
              "#fb9f3a"
             ],
             [
              0.8888888888888888,
              "#fdca26"
             ],
             [
              1,
              "#f0f921"
             ]
            ],
            "type": "heatmapgl"
           }
          ],
          "histogram": [
           {
            "marker": {
             "pattern": {
              "fillmode": "overlay",
              "size": 10,
              "solidity": 0.2
             }
            },
            "type": "histogram"
           }
          ],
          "histogram2d": [
           {
            "colorbar": {
             "outlinewidth": 0,
             "ticks": ""
            },
            "colorscale": [
             [
              0,
              "#0d0887"
             ],
             [
              0.1111111111111111,
              "#46039f"
             ],
             [
              0.2222222222222222,
              "#7201a8"
             ],
             [
              0.3333333333333333,
              "#9c179e"
             ],
             [
              0.4444444444444444,
              "#bd3786"
             ],
             [
              0.5555555555555556,
              "#d8576b"
             ],
             [
              0.6666666666666666,
              "#ed7953"
             ],
             [
              0.7777777777777778,
              "#fb9f3a"
             ],
             [
              0.8888888888888888,
              "#fdca26"
             ],
             [
              1,
              "#f0f921"
             ]
            ],
            "type": "histogram2d"
           }
          ],
          "histogram2dcontour": [
           {
            "colorbar": {
             "outlinewidth": 0,
             "ticks": ""
            },
            "colorscale": [
             [
              0,
              "#0d0887"
             ],
             [
              0.1111111111111111,
              "#46039f"
             ],
             [
              0.2222222222222222,
              "#7201a8"
             ],
             [
              0.3333333333333333,
              "#9c179e"
             ],
             [
              0.4444444444444444,
              "#bd3786"
             ],
             [
              0.5555555555555556,
              "#d8576b"
             ],
             [
              0.6666666666666666,
              "#ed7953"
             ],
             [
              0.7777777777777778,
              "#fb9f3a"
             ],
             [
              0.8888888888888888,
              "#fdca26"
             ],
             [
              1,
              "#f0f921"
             ]
            ],
            "type": "histogram2dcontour"
           }
          ],
          "mesh3d": [
           {
            "colorbar": {
             "outlinewidth": 0,
             "ticks": ""
            },
            "type": "mesh3d"
           }
          ],
          "parcoords": [
           {
            "line": {
             "colorbar": {
              "outlinewidth": 0,
              "ticks": ""
             }
            },
            "type": "parcoords"
           }
          ],
          "pie": [
           {
            "automargin": true,
            "type": "pie"
           }
          ],
          "scatter": [
           {
            "marker": {
             "line": {
              "color": "#283442"
             }
            },
            "type": "scatter"
           }
          ],
          "scatter3d": [
           {
            "line": {
             "colorbar": {
              "outlinewidth": 0,
              "ticks": ""
             }
            },
            "marker": {
             "colorbar": {
              "outlinewidth": 0,
              "ticks": ""
             }
            },
            "type": "scatter3d"
           }
          ],
          "scattercarpet": [
           {
            "marker": {
             "colorbar": {
              "outlinewidth": 0,
              "ticks": ""
             }
            },
            "type": "scattercarpet"
           }
          ],
          "scattergeo": [
           {
            "marker": {
             "colorbar": {
              "outlinewidth": 0,
              "ticks": ""
             }
            },
            "type": "scattergeo"
           }
          ],
          "scattergl": [
           {
            "marker": {
             "line": {
              "color": "#283442"
             }
            },
            "type": "scattergl"
           }
          ],
          "scattermapbox": [
           {
            "marker": {
             "colorbar": {
              "outlinewidth": 0,
              "ticks": ""
             }
            },
            "type": "scattermapbox"
           }
          ],
          "scatterpolar": [
           {
            "marker": {
             "colorbar": {
              "outlinewidth": 0,
              "ticks": ""
             }
            },
            "type": "scatterpolar"
           }
          ],
          "scatterpolargl": [
           {
            "marker": {
             "colorbar": {
              "outlinewidth": 0,
              "ticks": ""
             }
            },
            "type": "scatterpolargl"
           }
          ],
          "scatterternary": [
           {
            "marker": {
             "colorbar": {
              "outlinewidth": 0,
              "ticks": ""
             }
            },
            "type": "scatterternary"
           }
          ],
          "surface": [
           {
            "colorbar": {
             "outlinewidth": 0,
             "ticks": ""
            },
            "colorscale": [
             [
              0,
              "#0d0887"
             ],
             [
              0.1111111111111111,
              "#46039f"
             ],
             [
              0.2222222222222222,
              "#7201a8"
             ],
             [
              0.3333333333333333,
              "#9c179e"
             ],
             [
              0.4444444444444444,
              "#bd3786"
             ],
             [
              0.5555555555555556,
              "#d8576b"
             ],
             [
              0.6666666666666666,
              "#ed7953"
             ],
             [
              0.7777777777777778,
              "#fb9f3a"
             ],
             [
              0.8888888888888888,
              "#fdca26"
             ],
             [
              1,
              "#f0f921"
             ]
            ],
            "type": "surface"
           }
          ],
          "table": [
           {
            "cells": {
             "fill": {
              "color": "#506784"
             },
             "line": {
              "color": "rgb(17,17,17)"
             }
            },
            "header": {
             "fill": {
              "color": "#2a3f5f"
             },
             "line": {
              "color": "rgb(17,17,17)"
             }
            },
            "type": "table"
           }
          ]
         },
         "layout": {
          "annotationdefaults": {
           "arrowcolor": "#f2f5fa",
           "arrowhead": 0,
           "arrowwidth": 1
          },
          "autotypenumbers": "strict",
          "coloraxis": {
           "colorbar": {
            "outlinewidth": 0,
            "ticks": ""
           }
          },
          "colorscale": {
           "diverging": [
            [
             0,
             "#8e0152"
            ],
            [
             0.1,
             "#c51b7d"
            ],
            [
             0.2,
             "#de77ae"
            ],
            [
             0.3,
             "#f1b6da"
            ],
            [
             0.4,
             "#fde0ef"
            ],
            [
             0.5,
             "#f7f7f7"
            ],
            [
             0.6,
             "#e6f5d0"
            ],
            [
             0.7,
             "#b8e186"
            ],
            [
             0.8,
             "#7fbc41"
            ],
            [
             0.9,
             "#4d9221"
            ],
            [
             1,
             "#276419"
            ]
           ],
           "sequential": [
            [
             0,
             "#0d0887"
            ],
            [
             0.1111111111111111,
             "#46039f"
            ],
            [
             0.2222222222222222,
             "#7201a8"
            ],
            [
             0.3333333333333333,
             "#9c179e"
            ],
            [
             0.4444444444444444,
             "#bd3786"
            ],
            [
             0.5555555555555556,
             "#d8576b"
            ],
            [
             0.6666666666666666,
             "#ed7953"
            ],
            [
             0.7777777777777778,
             "#fb9f3a"
            ],
            [
             0.8888888888888888,
             "#fdca26"
            ],
            [
             1,
             "#f0f921"
            ]
           ],
           "sequentialminus": [
            [
             0,
             "#0d0887"
            ],
            [
             0.1111111111111111,
             "#46039f"
            ],
            [
             0.2222222222222222,
             "#7201a8"
            ],
            [
             0.3333333333333333,
             "#9c179e"
            ],
            [
             0.4444444444444444,
             "#bd3786"
            ],
            [
             0.5555555555555556,
             "#d8576b"
            ],
            [
             0.6666666666666666,
             "#ed7953"
            ],
            [
             0.7777777777777778,
             "#fb9f3a"
            ],
            [
             0.8888888888888888,
             "#fdca26"
            ],
            [
             1,
             "#f0f921"
            ]
           ]
          },
          "colorway": [
           "#636efa",
           "#EF553B",
           "#00cc96",
           "#ab63fa",
           "#FFA15A",
           "#19d3f3",
           "#FF6692",
           "#B6E880",
           "#FF97FF",
           "#FECB52"
          ],
          "font": {
           "color": "#f2f5fa"
          },
          "geo": {
           "bgcolor": "rgb(17,17,17)",
           "lakecolor": "rgb(17,17,17)",
           "landcolor": "rgb(17,17,17)",
           "showlakes": true,
           "showland": true,
           "subunitcolor": "#506784"
          },
          "hoverlabel": {
           "align": "left"
          },
          "hovermode": "closest",
          "mapbox": {
           "style": "dark"
          },
          "paper_bgcolor": "rgb(17,17,17)",
          "plot_bgcolor": "rgb(17,17,17)",
          "polar": {
           "angularaxis": {
            "gridcolor": "#506784",
            "linecolor": "#506784",
            "ticks": ""
           },
           "bgcolor": "rgb(17,17,17)",
           "radialaxis": {
            "gridcolor": "#506784",
            "linecolor": "#506784",
            "ticks": ""
           }
          },
          "scene": {
           "xaxis": {
            "backgroundcolor": "rgb(17,17,17)",
            "gridcolor": "#506784",
            "gridwidth": 2,
            "linecolor": "#506784",
            "showbackground": true,
            "ticks": "",
            "zerolinecolor": "#C8D4E3"
           },
           "yaxis": {
            "backgroundcolor": "rgb(17,17,17)",
            "gridcolor": "#506784",
            "gridwidth": 2,
            "linecolor": "#506784",
            "showbackground": true,
            "ticks": "",
            "zerolinecolor": "#C8D4E3"
           },
           "zaxis": {
            "backgroundcolor": "rgb(17,17,17)",
            "gridcolor": "#506784",
            "gridwidth": 2,
            "linecolor": "#506784",
            "showbackground": true,
            "ticks": "",
            "zerolinecolor": "#C8D4E3"
           }
          },
          "shapedefaults": {
           "line": {
            "color": "#f2f5fa"
           }
          },
          "sliderdefaults": {
           "bgcolor": "#C8D4E3",
           "bordercolor": "rgb(17,17,17)",
           "borderwidth": 1,
           "tickwidth": 0
          },
          "ternary": {
           "aaxis": {
            "gridcolor": "#506784",
            "linecolor": "#506784",
            "ticks": ""
           },
           "baxis": {
            "gridcolor": "#506784",
            "linecolor": "#506784",
            "ticks": ""
           },
           "bgcolor": "rgb(17,17,17)",
           "caxis": {
            "gridcolor": "#506784",
            "linecolor": "#506784",
            "ticks": ""
           }
          },
          "title": {
           "x": 0.05
          },
          "updatemenudefaults": {
           "bgcolor": "#506784",
           "borderwidth": 0
          },
          "xaxis": {
           "automargin": true,
           "gridcolor": "#283442",
           "linecolor": "#506784",
           "ticks": "",
           "title": {
            "standoff": 15
           },
           "zerolinecolor": "#283442",
           "zerolinewidth": 2
          },
          "yaxis": {
           "automargin": true,
           "gridcolor": "#283442",
           "linecolor": "#506784",
           "ticks": "",
           "title": {
            "standoff": 15
           },
           "zerolinecolor": "#283442",
           "zerolinewidth": 2
          }
         }
        },
        "title": {
         "text": "Pick up hour=2022-09-12 00:00:00, location_id=33"
        },
        "xaxis": {
         "anchor": "y",
         "domain": [
          0,
          1
         ],
         "title": {
          "text": "x"
         }
        },
        "yaxis": {
         "anchor": "x",
         "domain": [
          0,
          1
         ],
         "title": {
          "text": "y"
         }
        }
       }
      }
     },
     "metadata": {},
     "output_type": "display_data"
    }
   ],
   "source": [
    "plot_one_sample(\n",
    "    features=X_test,\n",
    "    targets=y_test,\n",
    "    example_id=4999,\n",
    "    predictions=pd.Series(predictions)\n",
    ")"
   ]
  },
  {
   "cell_type": "code",
   "execution_count": null,
   "metadata": {},
   "outputs": [],
   "source": []
  }
 ],
 "metadata": {
  "kernelspec": {
   "display_name": "taxi-demand",
   "language": "python",
   "name": "taxi-demand"
  },
  "language_info": {
   "codemirror_mode": {
    "name": "ipython",
    "version": 3
   },
   "file_extension": ".py",
   "mimetype": "text/x-python",
   "name": "python",
   "nbconvert_exporter": "python",
   "pygments_lexer": "ipython3",
   "version": "3.10.10"
  },
  "orig_nbformat": 4
 },
 "nbformat": 4,
 "nbformat_minor": 2
}
